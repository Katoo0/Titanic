{
 "cells": [
  {
   "cell_type": "markdown",
   "id": "a41072cd",
   "metadata": {},
   "source": [
    "# Titanic solutions"
   ]
  },
  {
   "cell_type": "markdown",
   "id": "1b915bf7",
   "metadata": {},
   "source": [
    "* Импортируем модуль pandas для работы с датафреймом"
   ]
  },
  {
   "cell_type": "code",
   "execution_count": 1,
   "id": "5bd3e73f",
   "metadata": {},
   "outputs": [],
   "source": [
    "import pandas as pd"
   ]
  },
  {
   "cell_type": "markdown",
   "id": "aa985d97",
   "metadata": {},
   "source": [
    "* Имортируем модули seaborn и matplotlib для визуализации данных"
   ]
  },
  {
   "cell_type": "code",
   "execution_count": 2,
   "id": "63d3cacc",
   "metadata": {},
   "outputs": [],
   "source": [
    "import seaborn as sb\n",
    "import matplotlib as plt"
   ]
  },
  {
   "cell_type": "markdown",
   "id": "4643db33",
   "metadata": {},
   "source": [
    "\n"
   ]
  },
  {
   "cell_type": "code",
   "execution_count": 3,
   "id": "0fc4ac1a",
   "metadata": {},
   "outputs": [],
   "source": [
    "import sklearn.tree as st"
   ]
  },
  {
   "cell_type": "markdown",
   "id": "f9371c0e",
   "metadata": {},
   "source": [
    "* Нам известно общее число людей на борту и количество умерших:"
   ]
  },
  {
   "cell_type": "code",
   "execution_count": 3,
   "id": "df5c2c60",
   "metadata": {},
   "outputs": [],
   "source": [
    "all_people = 2224\n",
    "killing = 1502"
   ]
  },
  {
   "cell_type": "markdown",
   "id": "c1ac9b3c",
   "metadata": {},
   "source": [
    "* Работа с данными: помещаем датасеты в датафрэймы, тренировочный в ds_train и тестовый в ds_test"
   ]
  },
  {
   "cell_type": "code",
   "execution_count": 6,
   "id": "448ef966",
   "metadata": {},
   "outputs": [],
   "source": [
    "file_name_train = \"C:\\\\1_CODE\\\\Datasets\\\\Titanic\\\\train.csv\"\n",
    "file_name_test = \"C:\\\\1_CODE\\\\Datasets\\\\Titanic\\\\test.csv\"\n",
    "file_name_test_y = \"C:\\\\1_CODE\\\\Datasets\\\\Titanic\\\\gender_submission.csv\""
   ]
  },
  {
   "cell_type": "code",
   "execution_count": 7,
   "id": "4364221c",
   "metadata": {},
   "outputs": [],
   "source": [
    "ds_train = pd.read_csv(file_name_train)\n",
    "ds_test = pd.read_csv(file_name_test)\n",
    "test_y = pd.read_csv(file_name_test_y)"
   ]
  },
  {
   "cell_type": "markdown",
   "id": "153fb3dd",
   "metadata": {},
   "source": [
    "\n"
   ]
  },
  {
   "cell_type": "markdown",
   "id": "5942177f",
   "metadata": {},
   "source": [
    "* Выводим значения названий колонок"
   ]
  },
  {
   "cell_type": "code",
   "execution_count": 5,
   "id": "54ad4ab5",
   "metadata": {
    "scrolled": true
   },
   "outputs": [
    {
     "name": "stdout",
     "output_type": "stream",
     "text": [
      "['PassengerId' 'Survived' 'Pclass' 'Name' 'Sex' 'Age' 'SibSp' 'Parch'\n",
      " 'Ticket' 'Fare' 'Cabin' 'Embarked']\n"
     ]
    }
   ],
   "source": [
    "print(ds_train.columns.values)    "
   ]
  },
  {
   "cell_type": "markdown",
   "id": "6a474c34",
   "metadata": {},
   "source": [
    "\n"
   ]
  },
  {
   "cell_type": "markdown",
   "id": "cfdd615f",
   "metadata": {},
   "source": [
    "### Пояснения к названию колонок:\n",
    ">*Pclass*: показатель социально-экономического статуса (1 -> 3, в порядке убывания)\n",
    ">\n",
    ">*SibSp* -> (Sibling, Spouse): братья и сестеры / супруги на борту\n",
    ">\n",
    ">*Parch* -> (Parent, Child) : дети / родители на борту\n",
    ">\n",
    ">*Fare* : плата за проезд\n",
    ">\n",
    ">*Embarked* : порт посадки, С = Шербур, Q = Квинстаун, S = Саутгемптон"
   ]
  },
  {
   "cell_type": "markdown",
   "id": "5a07fadb",
   "metadata": {},
   "source": [
    "* Выводим превью, чтобы понимать, что находится в датафрейме"
   ]
  },
  {
   "cell_type": "code",
   "execution_count": 31,
   "id": "067d89eb",
   "metadata": {},
   "outputs": [
    {
     "data": {
      "text/html": [
       "<div>\n",
       "<style scoped>\n",
       "    .dataframe tbody tr th:only-of-type {\n",
       "        vertical-align: middle;\n",
       "    }\n",
       "\n",
       "    .dataframe tbody tr th {\n",
       "        vertical-align: top;\n",
       "    }\n",
       "\n",
       "    .dataframe thead th {\n",
       "        text-align: right;\n",
       "    }\n",
       "</style>\n",
       "<table border=\"1\" class=\"dataframe\">\n",
       "  <thead>\n",
       "    <tr style=\"text-align: right;\">\n",
       "      <th></th>\n",
       "      <th>PassengerId</th>\n",
       "      <th>Survived</th>\n",
       "      <th>Pclass</th>\n",
       "      <th>Name</th>\n",
       "      <th>Sex</th>\n",
       "      <th>Age</th>\n",
       "      <th>SibSp</th>\n",
       "      <th>Parch</th>\n",
       "      <th>Ticket</th>\n",
       "      <th>Fare</th>\n",
       "      <th>Cabin</th>\n",
       "      <th>Embarked</th>\n",
       "    </tr>\n",
       "  </thead>\n",
       "  <tbody>\n",
       "    <tr>\n",
       "      <th>0</th>\n",
       "      <td>1</td>\n",
       "      <td>0</td>\n",
       "      <td>3</td>\n",
       "      <td>Braund, Mr. Owen Harris</td>\n",
       "      <td>male</td>\n",
       "      <td>22.0</td>\n",
       "      <td>1</td>\n",
       "      <td>0</td>\n",
       "      <td>A/5 21171</td>\n",
       "      <td>7.2500</td>\n",
       "      <td>NaN</td>\n",
       "      <td>S</td>\n",
       "    </tr>\n",
       "    <tr>\n",
       "      <th>1</th>\n",
       "      <td>2</td>\n",
       "      <td>1</td>\n",
       "      <td>1</td>\n",
       "      <td>Cumings, Mrs. John Bradley (Florence Briggs Th...</td>\n",
       "      <td>female</td>\n",
       "      <td>38.0</td>\n",
       "      <td>1</td>\n",
       "      <td>0</td>\n",
       "      <td>PC 17599</td>\n",
       "      <td>71.2833</td>\n",
       "      <td>C85</td>\n",
       "      <td>C</td>\n",
       "    </tr>\n",
       "    <tr>\n",
       "      <th>2</th>\n",
       "      <td>3</td>\n",
       "      <td>1</td>\n",
       "      <td>3</td>\n",
       "      <td>Heikkinen, Miss. Laina</td>\n",
       "      <td>female</td>\n",
       "      <td>26.0</td>\n",
       "      <td>0</td>\n",
       "      <td>0</td>\n",
       "      <td>STON/O2. 3101282</td>\n",
       "      <td>7.9250</td>\n",
       "      <td>NaN</td>\n",
       "      <td>S</td>\n",
       "    </tr>\n",
       "    <tr>\n",
       "      <th>3</th>\n",
       "      <td>4</td>\n",
       "      <td>1</td>\n",
       "      <td>1</td>\n",
       "      <td>Futrelle, Mrs. Jacques Heath (Lily May Peel)</td>\n",
       "      <td>female</td>\n",
       "      <td>35.0</td>\n",
       "      <td>1</td>\n",
       "      <td>0</td>\n",
       "      <td>113803</td>\n",
       "      <td>53.1000</td>\n",
       "      <td>C123</td>\n",
       "      <td>S</td>\n",
       "    </tr>\n",
       "    <tr>\n",
       "      <th>4</th>\n",
       "      <td>5</td>\n",
       "      <td>0</td>\n",
       "      <td>3</td>\n",
       "      <td>Allen, Mr. William Henry</td>\n",
       "      <td>male</td>\n",
       "      <td>35.0</td>\n",
       "      <td>0</td>\n",
       "      <td>0</td>\n",
       "      <td>373450</td>\n",
       "      <td>8.0500</td>\n",
       "      <td>NaN</td>\n",
       "      <td>S</td>\n",
       "    </tr>\n",
       "  </tbody>\n",
       "</table>\n",
       "</div>"
      ],
      "text/plain": [
       "   PassengerId  Survived  Pclass  \\\n",
       "0            1         0       3   \n",
       "1            2         1       1   \n",
       "2            3         1       3   \n",
       "3            4         1       1   \n",
       "4            5         0       3   \n",
       "\n",
       "                                                Name     Sex   Age  SibSp  \\\n",
       "0                            Braund, Mr. Owen Harris    male  22.0      1   \n",
       "1  Cumings, Mrs. John Bradley (Florence Briggs Th...  female  38.0      1   \n",
       "2                             Heikkinen, Miss. Laina  female  26.0      0   \n",
       "3       Futrelle, Mrs. Jacques Heath (Lily May Peel)  female  35.0      1   \n",
       "4                           Allen, Mr. William Henry    male  35.0      0   \n",
       "\n",
       "   Parch            Ticket     Fare Cabin Embarked  \n",
       "0      0         A/5 21171   7.2500   NaN        S  \n",
       "1      0          PC 17599  71.2833   C85        C  \n",
       "2      0  STON/O2. 3101282   7.9250   NaN        S  \n",
       "3      0            113803  53.1000  C123        S  \n",
       "4      0            373450   8.0500   NaN        S  "
      ]
     },
     "execution_count": 31,
     "metadata": {},
     "output_type": "execute_result"
    }
   ],
   "source": [
    "ds_train.head()"
   ]
  },
  {
   "cell_type": "markdown",
   "id": "5d0b5e06",
   "metadata": {},
   "source": [
    "\n"
   ]
  },
  {
   "cell_type": "markdown",
   "id": "9c55d894",
   "metadata": {},
   "source": [
    "Нам необходимо проанализировать следующее:\n",
    "* * Какие столбцы содержат нулевые или пустые значения\n",
    "* * Какие типы содержатся в колонках\n"
   ]
  },
  {
   "cell_type": "markdown",
   "id": "3a4e7dea",
   "metadata": {},
   "source": [
    "* Мы замечаем, что как в тестовой, так и в тренировочной выборках много null значений в колонке Cabin, что говорит о том, что в дальнейшем эта колонка будет удалена, т.к. она малоинформативна. "
   ]
  },
  {
   "cell_type": "markdown",
   "id": "942795eb",
   "metadata": {},
   "source": [
    "* В колонке возраста также наблюдается некоторый процент null значений, однако этот признак наиболее вероятно будет иметь значение в вопросе о выживаемости, а значит в дальнейшем необходимо будет дополнить пустые ячейки. "
   ]
  },
  {
   "cell_type": "markdown",
   "id": "3437d1b9",
   "metadata": {},
   "source": [
    "* Колонка пола, которая вероятно будет иметь вес в вероятности выживаемости, имеет тип значений Object, а значит в дальнейшем необходимо будет заменить значения эквивалентами, например: male/female — 0/1 "
   ]
  },
  {
   "cell_type": "code",
   "execution_count": 36,
   "id": "6b20ccad",
   "metadata": {
    "scrolled": true
   },
   "outputs": [
    {
     "name": "stdout",
     "output_type": "stream",
     "text": [
      "<class 'pandas.core.frame.DataFrame'>\n",
      "RangeIndex: 891 entries, 0 to 890\n",
      "Data columns (total 12 columns):\n",
      " #   Column       Non-Null Count  Dtype  \n",
      "---  ------       --------------  -----  \n",
      " 0   PassengerId  891 non-null    int64  \n",
      " 1   Survived     891 non-null    int64  \n",
      " 2   Pclass       891 non-null    int64  \n",
      " 3   Name         891 non-null    object \n",
      " 4   Sex          891 non-null    object \n",
      " 5   Age          714 non-null    float64\n",
      " 6   SibSp        891 non-null    int64  \n",
      " 7   Parch        891 non-null    int64  \n",
      " 8   Ticket       891 non-null    object \n",
      " 9   Fare         891 non-null    float64\n",
      " 10  Cabin        204 non-null    object \n",
      " 11  Embarked     889 non-null    object \n",
      "dtypes: float64(2), int64(5), object(5)\n",
      "memory usage: 83.7+ KB\n",
      "\n",
      "~~~~~~~~~~~~~~~~~~~~~~~~~~~~~~~~~~~~~~~~\n",
      "\n",
      "<class 'pandas.core.frame.DataFrame'>\n",
      "RangeIndex: 418 entries, 0 to 417\n",
      "Data columns (total 11 columns):\n",
      " #   Column       Non-Null Count  Dtype  \n",
      "---  ------       --------------  -----  \n",
      " 0   PassengerId  418 non-null    int64  \n",
      " 1   Pclass       418 non-null    int64  \n",
      " 2   Name         418 non-null    object \n",
      " 3   Sex          418 non-null    object \n",
      " 4   Age          332 non-null    float64\n",
      " 5   SibSp        418 non-null    int64  \n",
      " 6   Parch        418 non-null    int64  \n",
      " 7   Ticket       418 non-null    object \n",
      " 8   Fare         417 non-null    float64\n",
      " 9   Cabin        91 non-null     object \n",
      " 10  Embarked     418 non-null    object \n",
      "dtypes: float64(2), int64(4), object(5)\n",
      "memory usage: 36.0+ KB\n"
     ]
    }
   ],
   "source": [
    "ds_train.info()\n",
    "print('\\n'+'~'*40+'\\n')\n",
    "ds_test.info()"
   ]
  },
  {
   "cell_type": "markdown",
   "id": "62e5e5dc",
   "metadata": {},
   "source": [
    "\n"
   ]
  },
  {
   "cell_type": "markdown",
   "id": "028ae4f2",
   "metadata": {},
   "source": [
    "# Cтатистические характеристики\n",
    "\n",
    "определяем всевозможные процентные соотношения, взаимосвязи и др. характеристики"
   ]
  },
  {
   "cell_type": "markdown",
   "id": "48604347",
   "metadata": {},
   "source": [
    "#### Процент людей обучающей выборки от общего числа на борту:"
   ]
  },
  {
   "cell_type": "code",
   "execution_count": 43,
   "id": "ea8ea26f",
   "metadata": {},
   "outputs": [
    {
     "name": "stdout",
     "output_type": "stream",
     "text": [
      "≈ 40 %\n"
     ]
    }
   ],
   "source": [
    "print('≈', round(ds_train.shape[0]/all_people*100), '%')"
   ]
  },
  {
   "cell_type": "markdown",
   "id": "30e2074f",
   "metadata": {},
   "source": [
    "#### Процент выживших от общего числа пассажиров:"
   ]
  },
  {
   "cell_type": "code",
   "execution_count": 44,
   "id": "1fb471a3",
   "metadata": {
    "scrolled": true
   },
   "outputs": [
    {
     "name": "stdout",
     "output_type": "stream",
     "text": [
      "≈ 32 %\n"
     ]
    }
   ],
   "source": [
    "print('≈', round((all_people - killing) / all_people * 100), '%')"
   ]
  },
  {
   "cell_type": "markdown",
   "id": "def7a915",
   "metadata": {},
   "source": [
    "#### Процент выживших в обучающей выборке train:"
   ]
  },
  {
   "cell_type": "code",
   "execution_count": 45,
   "id": "da6212ac",
   "metadata": {},
   "outputs": [
    {
     "name": "stdout",
     "output_type": "stream",
     "text": [
      "≈ 38 %\n"
     ]
    }
   ],
   "source": [
    "print('≈', round(ds_train[ds_train.Survived == 1].shape[0] / ds_train.shape[0] * 100), '%')"
   ]
  },
  {
   "cell_type": "markdown",
   "id": "d5b36deb",
   "metadata": {},
   "source": [
    "#### Процент пассажиров без родителей/детей:"
   ]
  },
  {
   "cell_type": "code",
   "execution_count": 42,
   "id": "060f47b7",
   "metadata": {},
   "outputs": [
    {
     "name": "stdout",
     "output_type": "stream",
     "text": [
      "≈ 76 %\n"
     ]
    }
   ],
   "source": [
    "print('≈', round(ds_train[ds_train.Parch == 0]['Parch'].shape[0]/ds_train.shape[0]*100), '%')"
   ]
  },
  {
   "cell_type": "markdown",
   "id": "d53a7679",
   "metadata": {},
   "source": [
    "#### Процент пассажиров c братьями или сестерами/ мужьями или женами:"
   ]
  },
  {
   "cell_type": "code",
   "execution_count": 51,
   "id": "edeb69d3",
   "metadata": {},
   "outputs": [
    {
     "name": "stdout",
     "output_type": "stream",
     "text": [
      "≈ 23 %\n"
     ]
    }
   ],
   "source": [
    "print('≈', round(ds_train[ds_train.SibSp == 1]['SibSp'].shape[0]/ds_train.shape[0]*100), '%')"
   ]
  },
  {
   "cell_type": "markdown",
   "id": "936cf064",
   "metadata": {},
   "source": [
    "#### Максимальная и минимальная оплата, процент пассажиров, стоимость проезда которых >= 512 : "
   ]
  },
  {
   "cell_type": "code",
   "execution_count": 11,
   "id": "dfd1872f",
   "metadata": {},
   "outputs": [
    {
     "name": "stdout",
     "output_type": "stream",
     "text": [
      "min :  0.0   max :  512.3292\n",
      "0.34 %\n"
     ]
    }
   ],
   "source": [
    "print(\"min : \", ds_train.Fare.min(), ' ', \"max : \", ds_train.Fare.max())\n",
    "print(round(ds_train[ds_train.Fare >= 512]['Fare'].count()/ds_train.shape[0]*100, 2),  \"%\")"
   ]
  },
  {
   "cell_type": "markdown",
   "id": "b99b8b43",
   "metadata": {},
   "source": [
    "#### Процент пассажиров пожилого возраста:"
   ]
  },
  {
   "cell_type": "code",
   "execution_count": 14,
   "id": "a658afe6",
   "metadata": {},
   "outputs": [
    {
     "name": "stdout",
     "output_type": "stream",
     "text": [
      "0.9 %\n"
     ]
    }
   ],
   "source": [
    "print(round(ds_train[ds_train.Age > 65].shape[0]/ds_train.shape[0]*100, 2), \"%\")"
   ]
  },
  {
   "cell_type": "markdown",
   "id": "7922f77e",
   "metadata": {},
   "source": [
    "#### Среднее значение возраста среди выживших людей:"
   ]
  },
  {
   "cell_type": "code",
   "execution_count": 18,
   "id": "18ec9f4a",
   "metadata": {
    "scrolled": true
   },
   "outputs": [
    {
     "name": "stdout",
     "output_type": "stream",
     "text": [
      "mean :  28.34\n"
     ]
    }
   ],
   "source": [
    "mean = ds_train[ds_train.Survived == 1]['Age'].mean()\n",
    "print(\"mean : \", round(mean, 2))"
   ]
  },
  {
   "cell_type": "markdown",
   "id": "31f4eeb1",
   "metadata": {},
   "source": [
    "\n"
   ]
  },
  {
   "cell_type": "markdown",
   "id": "37a84182",
   "metadata": {},
   "source": [
    "#### Мы можем получить статистические данные путем вызова метода describe для числовых и объектных признаков"
   ]
  },
  {
   "cell_type": "markdown",
   "id": "5b77cbca",
   "metadata": {},
   "source": [
    "* count — количество ячеек не NaN\n",
    "* mean  — среднее значение\n",
    "* std    — стандартное отклонение\n",
    "* min   — минимальное значение\n",
    "* 25, 50, 75 % — персентили\n",
    "* max   — максимальное значение"
   ]
  },
  {
   "cell_type": "code",
   "execution_count": 19,
   "id": "13cf43da",
   "metadata": {
    "scrolled": false
   },
   "outputs": [
    {
     "data": {
      "text/html": [
       "<div>\n",
       "<style scoped>\n",
       "    .dataframe tbody tr th:only-of-type {\n",
       "        vertical-align: middle;\n",
       "    }\n",
       "\n",
       "    .dataframe tbody tr th {\n",
       "        vertical-align: top;\n",
       "    }\n",
       "\n",
       "    .dataframe thead th {\n",
       "        text-align: right;\n",
       "    }\n",
       "</style>\n",
       "<table border=\"1\" class=\"dataframe\">\n",
       "  <thead>\n",
       "    <tr style=\"text-align: right;\">\n",
       "      <th></th>\n",
       "      <th>PassengerId</th>\n",
       "      <th>Survived</th>\n",
       "      <th>Pclass</th>\n",
       "      <th>Age</th>\n",
       "      <th>SibSp</th>\n",
       "      <th>Parch</th>\n",
       "      <th>Fare</th>\n",
       "    </tr>\n",
       "  </thead>\n",
       "  <tbody>\n",
       "    <tr>\n",
       "      <th>count</th>\n",
       "      <td>891.000000</td>\n",
       "      <td>891.000000</td>\n",
       "      <td>891.000000</td>\n",
       "      <td>714.000000</td>\n",
       "      <td>891.000000</td>\n",
       "      <td>891.000000</td>\n",
       "      <td>891.000000</td>\n",
       "    </tr>\n",
       "    <tr>\n",
       "      <th>mean</th>\n",
       "      <td>446.000000</td>\n",
       "      <td>0.383838</td>\n",
       "      <td>2.308642</td>\n",
       "      <td>29.699118</td>\n",
       "      <td>0.523008</td>\n",
       "      <td>0.381594</td>\n",
       "      <td>32.204208</td>\n",
       "    </tr>\n",
       "    <tr>\n",
       "      <th>std</th>\n",
       "      <td>257.353842</td>\n",
       "      <td>0.486592</td>\n",
       "      <td>0.836071</td>\n",
       "      <td>14.526497</td>\n",
       "      <td>1.102743</td>\n",
       "      <td>0.806057</td>\n",
       "      <td>49.693429</td>\n",
       "    </tr>\n",
       "    <tr>\n",
       "      <th>min</th>\n",
       "      <td>1.000000</td>\n",
       "      <td>0.000000</td>\n",
       "      <td>1.000000</td>\n",
       "      <td>0.420000</td>\n",
       "      <td>0.000000</td>\n",
       "      <td>0.000000</td>\n",
       "      <td>0.000000</td>\n",
       "    </tr>\n",
       "    <tr>\n",
       "      <th>25%</th>\n",
       "      <td>223.500000</td>\n",
       "      <td>0.000000</td>\n",
       "      <td>2.000000</td>\n",
       "      <td>20.125000</td>\n",
       "      <td>0.000000</td>\n",
       "      <td>0.000000</td>\n",
       "      <td>7.910400</td>\n",
       "    </tr>\n",
       "    <tr>\n",
       "      <th>50%</th>\n",
       "      <td>446.000000</td>\n",
       "      <td>0.000000</td>\n",
       "      <td>3.000000</td>\n",
       "      <td>28.000000</td>\n",
       "      <td>0.000000</td>\n",
       "      <td>0.000000</td>\n",
       "      <td>14.454200</td>\n",
       "    </tr>\n",
       "    <tr>\n",
       "      <th>75%</th>\n",
       "      <td>668.500000</td>\n",
       "      <td>1.000000</td>\n",
       "      <td>3.000000</td>\n",
       "      <td>38.000000</td>\n",
       "      <td>1.000000</td>\n",
       "      <td>0.000000</td>\n",
       "      <td>31.000000</td>\n",
       "    </tr>\n",
       "    <tr>\n",
       "      <th>max</th>\n",
       "      <td>891.000000</td>\n",
       "      <td>1.000000</td>\n",
       "      <td>3.000000</td>\n",
       "      <td>80.000000</td>\n",
       "      <td>8.000000</td>\n",
       "      <td>6.000000</td>\n",
       "      <td>512.329200</td>\n",
       "    </tr>\n",
       "  </tbody>\n",
       "</table>\n",
       "</div>"
      ],
      "text/plain": [
       "       PassengerId    Survived      Pclass         Age       SibSp  \\\n",
       "count   891.000000  891.000000  891.000000  714.000000  891.000000   \n",
       "mean    446.000000    0.383838    2.308642   29.699118    0.523008   \n",
       "std     257.353842    0.486592    0.836071   14.526497    1.102743   \n",
       "min       1.000000    0.000000    1.000000    0.420000    0.000000   \n",
       "25%     223.500000    0.000000    2.000000   20.125000    0.000000   \n",
       "50%     446.000000    0.000000    3.000000   28.000000    0.000000   \n",
       "75%     668.500000    1.000000    3.000000   38.000000    1.000000   \n",
       "max     891.000000    1.000000    3.000000   80.000000    8.000000   \n",
       "\n",
       "            Parch        Fare  \n",
       "count  891.000000  891.000000  \n",
       "mean     0.381594   32.204208  \n",
       "std      0.806057   49.693429  \n",
       "min      0.000000    0.000000  \n",
       "25%      0.000000    7.910400  \n",
       "50%      0.000000   14.454200  \n",
       "75%      0.000000   31.000000  \n",
       "max      6.000000  512.329200  "
      ]
     },
     "execution_count": 19,
     "metadata": {},
     "output_type": "execute_result"
    }
   ],
   "source": [
    "ds_train.describe()"
   ]
  },
  {
   "cell_type": "markdown",
   "id": "9fae73dd",
   "metadata": {},
   "source": [
    "\n"
   ]
  },
  {
   "cell_type": "markdown",
   "id": "7618df54",
   "metadata": {},
   "source": [
    "* unique — количество уникальных значений\n",
    "* top — наиболее часто встречаемое значение\n",
    "* freq — количество раз, которое встречается значение выше"
   ]
  },
  {
   "cell_type": "code",
   "execution_count": 66,
   "id": "d1d6197c",
   "metadata": {
    "scrolled": false
   },
   "outputs": [
    {
     "data": {
      "text/html": [
       "<div>\n",
       "<style scoped>\n",
       "    .dataframe tbody tr th:only-of-type {\n",
       "        vertical-align: middle;\n",
       "    }\n",
       "\n",
       "    .dataframe tbody tr th {\n",
       "        vertical-align: top;\n",
       "    }\n",
       "\n",
       "    .dataframe thead th {\n",
       "        text-align: right;\n",
       "    }\n",
       "</style>\n",
       "<table border=\"1\" class=\"dataframe\">\n",
       "  <thead>\n",
       "    <tr style=\"text-align: right;\">\n",
       "      <th></th>\n",
       "      <th>Name</th>\n",
       "      <th>Sex</th>\n",
       "      <th>Ticket</th>\n",
       "      <th>Cabin</th>\n",
       "      <th>Embarked</th>\n",
       "    </tr>\n",
       "  </thead>\n",
       "  <tbody>\n",
       "    <tr>\n",
       "      <th>count</th>\n",
       "      <td>891</td>\n",
       "      <td>891</td>\n",
       "      <td>891</td>\n",
       "      <td>204</td>\n",
       "      <td>889</td>\n",
       "    </tr>\n",
       "    <tr>\n",
       "      <th>unique</th>\n",
       "      <td>891</td>\n",
       "      <td>2</td>\n",
       "      <td>681</td>\n",
       "      <td>147</td>\n",
       "      <td>3</td>\n",
       "    </tr>\n",
       "    <tr>\n",
       "      <th>top</th>\n",
       "      <td>Glynn, Miss. Mary Agatha</td>\n",
       "      <td>male</td>\n",
       "      <td>1601</td>\n",
       "      <td>G6</td>\n",
       "      <td>S</td>\n",
       "    </tr>\n",
       "    <tr>\n",
       "      <th>freq</th>\n",
       "      <td>1</td>\n",
       "      <td>577</td>\n",
       "      <td>7</td>\n",
       "      <td>4</td>\n",
       "      <td>644</td>\n",
       "    </tr>\n",
       "  </tbody>\n",
       "</table>\n",
       "</div>"
      ],
      "text/plain": [
       "                            Name   Sex Ticket Cabin Embarked\n",
       "count                        891   891    891   204      889\n",
       "unique                       891     2    681   147        3\n",
       "top     Glynn, Miss. Mary Agatha  male   1601    G6        S\n",
       "freq                           1   577      7     4      644"
      ]
     },
     "execution_count": 66,
     "metadata": {},
     "output_type": "execute_result"
    }
   ],
   "source": [
    "ds_train.describe(include='object')"
   ]
  },
  {
   "cell_type": "markdown",
   "id": "0fd150b5",
   "metadata": {},
   "source": [
    "* Мы видим, что чаще в датасете встречаются представити мужского пола, что составляет:"
   ]
  },
  {
   "cell_type": "code",
   "execution_count": 69,
   "id": "bd275ac7",
   "metadata": {
    "scrolled": true
   },
   "outputs": [
    {
     "name": "stdout",
     "output_type": "stream",
     "text": [
      "64.76 %\n"
     ]
    }
   ],
   "source": [
    "print(round(577/ds_train.shape[0]*100, 2), \"%\")"
   ]
  },
  {
   "cell_type": "markdown",
   "id": "a477fca1",
   "metadata": {},
   "source": [
    "\n"
   ]
  },
  {
   "cell_type": "markdown",
   "id": "aa5361fc",
   "metadata": {},
   "source": [
    "* Cтоит отметить, что уникальность билетов не достаточно высока:"
   ]
  },
  {
   "cell_type": "code",
   "execution_count": 9,
   "id": "ef0b884f",
   "metadata": {
    "scrolled": false
   },
   "outputs": [
    {
     "name": "stdout",
     "output_type": "stream",
     "text": [
      "76.43 %\n"
     ]
    }
   ],
   "source": [
    "print(round(681/891*100, 2), \"%\")"
   ]
  },
  {
   "cell_type": "markdown",
   "id": "166a5f60",
   "metadata": {},
   "source": [
    "\n"
   ]
  },
  {
   "cell_type": "markdown",
   "id": "fe3174ef",
   "metadata": {},
   "source": [
    "* Уникальность кабин также невелика:"
   ]
  },
  {
   "cell_type": "code",
   "execution_count": 10,
   "id": "66dc2e7c",
   "metadata": {},
   "outputs": [
    {
     "name": "stdout",
     "output_type": "stream",
     "text": [
      "72.06 %\n"
     ]
    }
   ],
   "source": [
    "print(round(147/204*100, 2), \"%\")"
   ]
  },
  {
   "cell_type": "markdown",
   "id": "4d03e4ea",
   "metadata": {},
   "source": [
    "\n",
    "\n"
   ]
  },
  {
   "cell_type": "markdown",
   "id": "02f4a56a",
   "metadata": {},
   "source": [
    "### Выводы из статистических характеристик:\n"
   ]
  },
  {
   "cell_type": "markdown",
   "id": "3fe1f6b6",
   "metadata": {},
   "source": [
    "1. Колонку \"возраст\" необходимо дополнить значениями, поскольку данный признак определенно связан с выживаемостью, о чем свидетельствует гистограмма ниже: представители женского пола в большем количестве выжили, а представители мужского пола — наоборот"
   ]
  },
  {
   "cell_type": "code",
   "execution_count": 16,
   "id": "9e9e2fe0",
   "metadata": {},
   "outputs": [
    {
     "data": {
      "text/plain": [
       "<AxesSubplot:xlabel='Survived', ylabel='Sex'>"
      ]
     },
     "execution_count": 16,
     "metadata": {},
     "output_type": "execute_result"
    },
    {
     "data": {
      "image/png": "[encoded data removed]",
      "text/plain": [
       "<Figure size 432x288 with 1 Axes>"
      ]
     },
     "metadata": {
      "needs_background": "light"
     },
     "output_type": "display_data"
    }
   ],
   "source": [
    "sb.histplot(data = ds_train[['Sex', 'Survived']] , y = 'Sex', x = 'Survived', color = \"pink\")"
   ]
  },
  {
   "cell_type": "markdown",
   "id": "6484ff46",
   "metadata": {},
   "source": [
    "\n"
   ]
  },
  {
   "cell_type": "markdown",
   "id": "cded18a4",
   "metadata": {},
   "source": [
    "2. Колонка \"Ticket\" может быть удалена, поскольку она содержит большое количество дубликатов (24%) и может не быть корреляции между билетом и выживаемостью."
   ]
  },
  {
   "cell_type": "markdown",
   "id": "c870c0ad",
   "metadata": {},
   "source": [
    "3. Колонка \"Cabin\" может быть удалена, поскольку она содержит много нулевых значений как в обучающем, так и в тестовом наборе данных."
   ]
  },
  {
   "cell_type": "markdown",
   "id": "0fb99813",
   "metadata": {},
   "source": [
    "4. Колонка \"PassengerId\" может быть исключена из набора обучающих данных, поскольку она не способствует выживанию."
   ]
  },
  {
   "cell_type": "markdown",
   "id": "b7d3b50d",
   "metadata": {},
   "source": [
    "5. Характеристика \"Name\" относительно нестандартна, а значит не может напрямую способствовать выживанию, поэтому может быть удалена."
   ]
  },
  {
   "cell_type": "markdown",
   "id": "360972f3",
   "metadata": {},
   "source": [
    "\n"
   ]
  },
  {
   "cell_type": "markdown",
   "id": "1bfb49d3",
   "metadata": {},
   "source": [
    "### Предположения касаемо дальнейших действий:"
   ]
  },
  {
   "cell_type": "markdown",
   "id": "5162a6c1",
   "metadata": {},
   "source": [
    "1. Извленчение признака статуса/положения из имени в качестве новой колонки со следующим содержанием: Mr., Mrs., Master., Miss. и др.\n"
   ]
  },
  {
   "cell_type": "markdown",
   "id": "237a30ba",
   "metadata": {},
   "source": [
    "2. Выделение возрастных групп (превращение числового признака \"Age\" в категориальный), это полезно тем, что такой признак будет более информативен."
   ]
  },
  {
   "cell_type": "markdown",
   "id": "0cd36fa2",
   "metadata": {},
   "source": [
    "3. Иакже возможно создание диапозонов тарифов, если это поможет анализу."
   ]
  },
  {
   "cell_type": "markdown",
   "id": "50dd6337",
   "metadata": {},
   "source": [
    "4. Создание нового прихнака \"Family\" на основе Parch и SibSp, чтобы получить общее количество членов семьи на борту"
   ]
  },
  {
   "cell_type": "markdown",
   "id": "74c9c446",
   "metadata": {},
   "source": [
    "\n"
   ]
  },
  {
   "cell_type": "markdown",
   "id": "0e2cc2bf",
   "metadata": {},
   "source": [
    "### Предположения:"
   ]
  },
  {
   "cell_type": "markdown",
   "id": "7da7df25",
   "metadata": {},
   "source": [
    "1. Представители женского пола имели больше шансов выжить\n"
   ]
  },
  {
   "cell_type": "markdown",
   "id": "7ca8da5c",
   "metadata": {},
   "source": [
    "2. С наибольшей вероятностью представители высшего класса выжили"
   ]
  },
  {
   "cell_type": "markdown",
   "id": "5bee5759",
   "metadata": {},
   "source": [
    "3. Дети имели больше шансов выжить"
   ]
  },
  {
   "cell_type": "code",
   "execution_count": 20,
   "id": "37cdf65c",
   "metadata": {},
   "outputs": [
    {
     "data": {
      "text/plain": [
       "<AxesSubplot:xlabel='Pclass', ylabel='Survived'>"
      ]
     },
     "execution_count": 20,
     "metadata": {},
     "output_type": "execute_result"
    },
    {
     "data": {
      "image/png": "[encoded data removed]",
      "text/plain": [
       "<Figure size 432x288 with 1 Axes>"
      ]
     },
     "metadata": {
      "needs_background": "light"
     },
     "output_type": "display_data"
    }
   ],
   "source": [
    "sb.histplot(data = ds_train[['Pclass', 'Survived']] , x = 'Pclass', y = 'Survived', color = \"pink\")"
   ]
  },
  {
   "cell_type": "markdown",
   "id": "d32e9948",
   "metadata": {},
   "source": [
    "\n"
   ]
  },
  {
   "cell_type": "markdown",
   "id": "10ce00d0",
   "metadata": {},
   "source": [
    "### Корреляция\n",
    "насколько хорошо каждая функция соотносится с выживанием\n"
   ]
  },
  {
   "cell_type": "markdown",
   "id": "1b7ac8aa",
   "metadata": {},
   "source": [
    "1. Признак \"Pclass\"\n",
    "    *можем заметить: выживаемость среди людей первого класса наибольшая, что подтверждает наше предположение №2*"
   ]
  },
  {
   "cell_type": "code",
   "execution_count": 40,
   "id": "ea9f728e",
   "metadata": {},
   "outputs": [
    {
     "data": {
      "text/html": [
       "<div>\n",
       "<style scoped>\n",
       "    .dataframe tbody tr th:only-of-type {\n",
       "        vertical-align: middle;\n",
       "    }\n",
       "\n",
       "    .dataframe tbody tr th {\n",
       "        vertical-align: top;\n",
       "    }\n",
       "\n",
       "    .dataframe thead th {\n",
       "        text-align: right;\n",
       "    }\n",
       "</style>\n",
       "<table border=\"1\" class=\"dataframe\">\n",
       "  <thead>\n",
       "    <tr style=\"text-align: right;\">\n",
       "      <th></th>\n",
       "      <th>Pclass</th>\n",
       "      <th>Survived</th>\n",
       "    </tr>\n",
       "  </thead>\n",
       "  <tbody>\n",
       "    <tr>\n",
       "      <th>0</th>\n",
       "      <td>1</td>\n",
       "      <td>0.629630</td>\n",
       "    </tr>\n",
       "    <tr>\n",
       "      <th>1</th>\n",
       "      <td>2</td>\n",
       "      <td>0.472826</td>\n",
       "    </tr>\n",
       "    <tr>\n",
       "      <th>2</th>\n",
       "      <td>3</td>\n",
       "      <td>0.242363</td>\n",
       "    </tr>\n",
       "  </tbody>\n",
       "</table>\n",
       "</div>"
      ],
      "text/plain": [
       "   Pclass  Survived\n",
       "0       1  0.629630\n",
       "1       2  0.472826\n",
       "2       3  0.242363"
      ]
     },
     "execution_count": 40,
     "metadata": {},
     "output_type": "execute_result"
    }
   ],
   "source": [
    "ds_train[['Pclass', 'Survived']].groupby(['Pclass'], as_index=False).mean().sort_values(by='Survived', ascending=False)"
   ]
  },
  {
   "cell_type": "markdown",
   "id": "9418917a",
   "metadata": {},
   "source": [
    "\n"
   ]
  },
  {
   "cell_type": "markdown",
   "id": "f3aac8e6",
   "metadata": {},
   "source": [
    "2. Признак \"Sex\", *можем заметить: у представителей женского пола наибольшая выживаемость, что подтверждает предположение №1*"
   ]
  },
  {
   "cell_type": "code",
   "execution_count": 39,
   "id": "6c3b6be5",
   "metadata": {
    "scrolled": true
   },
   "outputs": [
    {
     "data": {
      "text/html": [
       "<div>\n",
       "<style scoped>\n",
       "    .dataframe tbody tr th:only-of-type {\n",
       "        vertical-align: middle;\n",
       "    }\n",
       "\n",
       "    .dataframe tbody tr th {\n",
       "        vertical-align: top;\n",
       "    }\n",
       "\n",
       "    .dataframe thead th {\n",
       "        text-align: right;\n",
       "    }\n",
       "</style>\n",
       "<table border=\"1\" class=\"dataframe\">\n",
       "  <thead>\n",
       "    <tr style=\"text-align: right;\">\n",
       "      <th></th>\n",
       "      <th>Sex</th>\n",
       "      <th>Survived</th>\n",
       "    </tr>\n",
       "  </thead>\n",
       "  <tbody>\n",
       "    <tr>\n",
       "      <th>0</th>\n",
       "      <td>female</td>\n",
       "      <td>0.742038</td>\n",
       "    </tr>\n",
       "    <tr>\n",
       "      <th>1</th>\n",
       "      <td>male</td>\n",
       "      <td>0.188908</td>\n",
       "    </tr>\n",
       "  </tbody>\n",
       "</table>\n",
       "</div>"
      ],
      "text/plain": [
       "      Sex  Survived\n",
       "0  female  0.742038\n",
       "1    male  0.188908"
      ]
     },
     "execution_count": 39,
     "metadata": {},
     "output_type": "execute_result"
    }
   ],
   "source": [
    "ds_train[['Sex', 'Survived']].groupby(['Sex'], as_index=False).mean().sort_values(by='Survived', ascending=False)"
   ]
  },
  {
   "cell_type": "markdown",
   "id": "3a77b33c",
   "metadata": {},
   "source": [
    "\n"
   ]
  },
  {
   "cell_type": "markdown",
   "id": "f1bf59e9",
   "metadata": {},
   "source": [
    "3. Признак \"SibSp\", *можем заметить: наибольшая выживаемость у тех, кто был на борту с супругом/супругой или братьями/сестрами (максимум двумя), а также у тех, кто был на борту один, но уже меньше*"
   ]
  },
  {
   "cell_type": "code",
   "execution_count": 44,
   "id": "bb34af62",
   "metadata": {
    "scrolled": false
   },
   "outputs": [
    {
     "data": {
      "text/html": [
       "<div>\n",
       "<style scoped>\n",
       "    .dataframe tbody tr th:only-of-type {\n",
       "        vertical-align: middle;\n",
       "    }\n",
       "\n",
       "    .dataframe tbody tr th {\n",
       "        vertical-align: top;\n",
       "    }\n",
       "\n",
       "    .dataframe thead th {\n",
       "        text-align: right;\n",
       "    }\n",
       "</style>\n",
       "<table border=\"1\" class=\"dataframe\">\n",
       "  <thead>\n",
       "    <tr style=\"text-align: right;\">\n",
       "      <th></th>\n",
       "      <th>SibSp</th>\n",
       "      <th>Survived</th>\n",
       "    </tr>\n",
       "  </thead>\n",
       "  <tbody>\n",
       "    <tr>\n",
       "      <th>1</th>\n",
       "      <td>1</td>\n",
       "      <td>0.535885</td>\n",
       "    </tr>\n",
       "    <tr>\n",
       "      <th>2</th>\n",
       "      <td>2</td>\n",
       "      <td>0.464286</td>\n",
       "    </tr>\n",
       "    <tr>\n",
       "      <th>0</th>\n",
       "      <td>0</td>\n",
       "      <td>0.345395</td>\n",
       "    </tr>\n",
       "    <tr>\n",
       "      <th>3</th>\n",
       "      <td>3</td>\n",
       "      <td>0.250000</td>\n",
       "    </tr>\n",
       "    <tr>\n",
       "      <th>4</th>\n",
       "      <td>4</td>\n",
       "      <td>0.166667</td>\n",
       "    </tr>\n",
       "    <tr>\n",
       "      <th>5</th>\n",
       "      <td>5</td>\n",
       "      <td>0.000000</td>\n",
       "    </tr>\n",
       "    <tr>\n",
       "      <th>6</th>\n",
       "      <td>8</td>\n",
       "      <td>0.000000</td>\n",
       "    </tr>\n",
       "  </tbody>\n",
       "</table>\n",
       "</div>"
      ],
      "text/plain": [
       "   SibSp  Survived\n",
       "1      1  0.535885\n",
       "2      2  0.464286\n",
       "0      0  0.345395\n",
       "3      3  0.250000\n",
       "4      4  0.166667\n",
       "5      5  0.000000\n",
       "6      8  0.000000"
      ]
     },
     "execution_count": 44,
     "metadata": {},
     "output_type": "execute_result"
    }
   ],
   "source": [
    "ds_train[['SibSp', 'Survived']].groupby(['SibSp'], as_index=False).mean().sort_values(by='Survived', ascending=False)"
   ]
  },
  {
   "cell_type": "markdown",
   "id": "82422a7e",
   "metadata": {},
   "source": [
    "\n"
   ]
  },
  {
   "cell_type": "markdown",
   "id": "2c480b26",
   "metadata": {},
   "source": [
    "3. Признак \"Parch\", *можем заметить: наибольшая выживаемость с минимальным количесвом детей и рожителей, однако их наиличие все же играет роль, т.к. при значении = 0, шансы значительно меньше*"
   ]
  },
  {
   "cell_type": "code",
   "execution_count": 45,
   "id": "cbff1746",
   "metadata": {},
   "outputs": [
    {
     "data": {
      "text/html": [
       "<div>\n",
       "<style scoped>\n",
       "    .dataframe tbody tr th:only-of-type {\n",
       "        vertical-align: middle;\n",
       "    }\n",
       "\n",
       "    .dataframe tbody tr th {\n",
       "        vertical-align: top;\n",
       "    }\n",
       "\n",
       "    .dataframe thead th {\n",
       "        text-align: right;\n",
       "    }\n",
       "</style>\n",
       "<table border=\"1\" class=\"dataframe\">\n",
       "  <thead>\n",
       "    <tr style=\"text-align: right;\">\n",
       "      <th></th>\n",
       "      <th>Parch</th>\n",
       "      <th>Survived</th>\n",
       "    </tr>\n",
       "  </thead>\n",
       "  <tbody>\n",
       "    <tr>\n",
       "      <th>3</th>\n",
       "      <td>3</td>\n",
       "      <td>0.600000</td>\n",
       "    </tr>\n",
       "    <tr>\n",
       "      <th>1</th>\n",
       "      <td>1</td>\n",
       "      <td>0.550847</td>\n",
       "    </tr>\n",
       "    <tr>\n",
       "      <th>2</th>\n",
       "      <td>2</td>\n",
       "      <td>0.500000</td>\n",
       "    </tr>\n",
       "    <tr>\n",
       "      <th>0</th>\n",
       "      <td>0</td>\n",
       "      <td>0.343658</td>\n",
       "    </tr>\n",
       "    <tr>\n",
       "      <th>5</th>\n",
       "      <td>5</td>\n",
       "      <td>0.200000</td>\n",
       "    </tr>\n",
       "    <tr>\n",
       "      <th>4</th>\n",
       "      <td>4</td>\n",
       "      <td>0.000000</td>\n",
       "    </tr>\n",
       "    <tr>\n",
       "      <th>6</th>\n",
       "      <td>6</td>\n",
       "      <td>0.000000</td>\n",
       "    </tr>\n",
       "  </tbody>\n",
       "</table>\n",
       "</div>"
      ],
      "text/plain": [
       "   Parch  Survived\n",
       "3      3  0.600000\n",
       "1      1  0.550847\n",
       "2      2  0.500000\n",
       "0      0  0.343658\n",
       "5      5  0.200000\n",
       "4      4  0.000000\n",
       "6      6  0.000000"
      ]
     },
     "execution_count": 45,
     "metadata": {},
     "output_type": "execute_result"
    }
   ],
   "source": [
    "ds_train[['Parch', 'Survived']].groupby(['Parch'], as_index=False).mean().sort_values(by='Survived', ascending=False)"
   ]
  },
  {
   "cell_type": "markdown",
   "id": "ba30166c",
   "metadata": {},
   "source": [
    "\n"
   ]
  },
  {
   "cell_type": "markdown",
   "id": "56875b17",
   "metadata": {},
   "source": [
    "4. Признак \"Embarked\", *можем заметить: выживаемость тех, у кого порт посадки С(Шербур) выше, чем у тех, у кого порт посадки Q(Квинстаун) или S(Саутгемптон)*"
   ]
  },
  {
   "cell_type": "code",
   "execution_count": 100,
   "id": "99241588",
   "metadata": {
    "scrolled": true
   },
   "outputs": [
    {
     "data": {
      "text/html": [
       "<div>\n",
       "<style scoped>\n",
       "    .dataframe tbody tr th:only-of-type {\n",
       "        vertical-align: middle;\n",
       "    }\n",
       "\n",
       "    .dataframe tbody tr th {\n",
       "        vertical-align: top;\n",
       "    }\n",
       "\n",
       "    .dataframe thead th {\n",
       "        text-align: right;\n",
       "    }\n",
       "</style>\n",
       "<table border=\"1\" class=\"dataframe\">\n",
       "  <thead>\n",
       "    <tr style=\"text-align: right;\">\n",
       "      <th></th>\n",
       "      <th>Embarked</th>\n",
       "      <th>Survived</th>\n",
       "    </tr>\n",
       "  </thead>\n",
       "  <tbody>\n",
       "    <tr>\n",
       "      <th>0</th>\n",
       "      <td>C</td>\n",
       "      <td>0.553571</td>\n",
       "    </tr>\n",
       "    <tr>\n",
       "      <th>1</th>\n",
       "      <td>Q</td>\n",
       "      <td>0.389610</td>\n",
       "    </tr>\n",
       "    <tr>\n",
       "      <th>2</th>\n",
       "      <td>S</td>\n",
       "      <td>0.336957</td>\n",
       "    </tr>\n",
       "  </tbody>\n",
       "</table>\n",
       "</div>"
      ],
      "text/plain": [
       "  Embarked  Survived\n",
       "0        C  0.553571\n",
       "1        Q  0.389610\n",
       "2        S  0.336957"
      ]
     },
     "execution_count": 100,
     "metadata": {},
     "output_type": "execute_result"
    }
   ],
   "source": [
    "ds_train[['Embarked', 'Survived']].groupby(['Embarked'], as_index=False).mean().sort_values(by='Survived', ascending=False)"
   ]
  },
  {
   "cell_type": "markdown",
   "id": "cd4e54e7",
   "metadata": {},
   "source": [
    "\n"
   ]
  },
  {
   "cell_type": "markdown",
   "id": "698ed5f8",
   "metadata": {},
   "source": [
    "### Графическое подтверждение предположений"
   ]
  },
  {
   "cell_type": "markdown",
   "id": "0673f754",
   "metadata": {},
   "source": [
    "#### Признак \"Age\"\n",
    "Можем заметить: \n",
    "* подтверждение предположения о том, что дети имеют бо́льшие шансы на выживание (<= 5 лет)\n",
    "* бо́льшая часть людей, находящихся на борту, относится к возрастной группе 15—35, \n",
    "* бо́льшее количество 15—30-летних не выжило\n",
    "* все пожилые люди с возрастом около 80 выжили, т.е. самые старые"
   ]
  },
  {
   "cell_type": "code",
   "execution_count": 57,
   "id": "ddfb42fd",
   "metadata": {},
   "outputs": [
    {
     "data": {
      "text/plain": [
       "<seaborn.axisgrid.FacetGrid at 0x157c2ebf400>"
      ]
     },
     "execution_count": 57,
     "metadata": {},
     "output_type": "execute_result"
    },
    {
     "data": {
      "image/png": "[encoded data removed]",
      "text/plain": [
       "<Figure size 432x216 with 2 Axes>"
      ]
     },
     "metadata": {
      "needs_background": "light"
     },
     "output_type": "display_data"
    }
   ],
   "source": [
    "g = sb.FacetGrid(ds_train, col='Survived')\n",
    "g.map(plt.pyplot.hist, 'Age', bins=20, color = 'pink')"
   ]
  },
  {
   "cell_type": "code",
   "execution_count": 46,
   "id": "673c8775",
   "metadata": {
    "scrolled": true
   },
   "outputs": [
    {
     "data": {
      "text/plain": [
       "<AxesSubplot:xlabel='Survived', ylabel='Age'>"
      ]
     },
     "execution_count": 46,
     "metadata": {},
     "output_type": "execute_result"
    },
    {
     "data": {
      "image/png": "[encoded data removed]",
      "text/plain": [
       "<Figure size 432x288 with 1 Axes>"
      ]
     },
     "metadata": {
      "needs_background": "light"
     },
     "output_type": "display_data"
    }
   ],
   "source": [
    "sb.histplot(data = ds_train[['Age', 'Survived']] , y = 'Age', x = 'Survived', color = \"pink\")"
   ]
  },
  {
   "cell_type": "markdown",
   "id": "7324b868",
   "metadata": {},
   "source": [
    "\n"
   ]
  },
  {
   "cell_type": "markdown",
   "id": "803f4d5d",
   "metadata": {},
   "source": [
    "#### Признак \"Pclass\"\n",
    "Можем заметить:\n",
    "* бо́льшая часть людей, находившихся на борту, принадлежала к третьему классу, погибло больше всего в нем же \n",
    "* маленькие дети в основном выжили, что подтверждает предположение о том, что дети имеют бо́льшие шансы на выживание\n",
    "* большинство пассажиров принадлежащих первому классу выжили, что подтверждает предположение №2 \n",
    "* Pclass зависит от возраста, бо́льшая часть молодых людей принадлежит третьему классу, в то время как первому пассажиры постарше"
   ]
  },
  {
   "cell_type": "code",
   "execution_count": 27,
   "id": "f9e79c4c",
   "metadata": {},
   "outputs": [
    {
     "name": "stderr",
     "output_type": "stream",
     "text": [
      "C:\\1_CODE\\Anaconda\\lib\\site-packages\\seaborn\\axisgrid.py:316: UserWarning: The `size` parameter has been renamed to `height`; please update your code.\n",
      "  warnings.warn(msg, UserWarning)\n"
     ]
    },
    {
     "data": {
      "text/plain": [
       "<seaborn.axisgrid.FacetGrid at 0x17c81c30100>"
      ]
     },
     "execution_count": 27,
     "metadata": {},
     "output_type": "execute_result"
    },
    {
     "data": {
      "image/png": "[encoded data removed]",
      "text/plain": [
       "<Figure size 794.88x331.2 with 6 Axes>"
      ]
     },
     "metadata": {
      "needs_background": "light"
     },
     "output_type": "display_data"
    }
   ],
   "source": [
    "grid = sb.FacetGrid(ds_train, col='Pclass', row='Survived', size=2.3, aspect=1.6)\n",
    "grid.map(plt.pyplot.hist, 'Age', alpha=.5, bins=20, color='lightcoral')"
   ]
  },
  {
   "cell_type": "markdown",
   "id": "957af4fc",
   "metadata": {},
   "source": [
    "\n"
   ]
  },
  {
   "cell_type": "markdown",
   "id": "dd66c12b",
   "metadata": {},
   "source": [
    "#### Признак \"Fare\""
   ]
  },
  {
   "cell_type": "markdown",
   "id": "354ddaad",
   "metadata": {},
   "source": [
    "Можем заметить:\n",
    "* признак можно разделить на диапазоны, ведь в некоторых интервалах выживаемость больше, а в каких-то меньше, также это облегчит анализ, т.к. числовой непрерывный признак превратится в категориальный\n",
    "* выживаемость выше, если оплата находится ближе к верхней границе, что подтверждает предположение №2"
   ]
  },
  {
   "cell_type": "code",
   "execution_count": 94,
   "id": "d3a71a1e",
   "metadata": {},
   "outputs": [
    {
     "data": {
      "text/plain": [
       "<AxesSubplot:xlabel='Survived', ylabel='Fare'>"
      ]
     },
     "execution_count": 94,
     "metadata": {},
     "output_type": "execute_result"
    },
    {
     "data": {
      "image/png": "[encoded data removed]",
      "text/plain": [
       "<Figure size 432x288 with 1 Axes>"
      ]
     },
     "metadata": {
      "needs_background": "light"
     },
     "output_type": "display_data"
    }
   ],
   "source": [
    "sb.histplot(data = ds_train[['Fare', 'Survived']][ds_train.Fare >= 100] , y = 'Fare', x = 'Survived', color = \"pink\")"
   ]
  },
  {
   "cell_type": "code",
   "execution_count": 95,
   "id": "f1c7e61d",
   "metadata": {
    "scrolled": true
   },
   "outputs": [
    {
     "data": {
      "text/plain": [
       "<AxesSubplot:xlabel='Survived', ylabel='Fare'>"
      ]
     },
     "execution_count": 95,
     "metadata": {},
     "output_type": "execute_result"
    },
    {
     "data": {
      "image/png": "[encoded data removed]",
      "text/plain": [
       "<Figure size 432x288 with 1 Axes>"
      ]
     },
     "metadata": {
      "needs_background": "light"
     },
     "output_type": "display_data"
    }
   ],
   "source": [
    "sb.histplot(data = ds_train[['Fare', 'Survived']][(ds_train.Fare <= 100) & (ds_train.Fare >= 50)] , y = 'Fare', x = 'Survived', color = \"pink\")"
   ]
  },
  {
   "cell_type": "code",
   "execution_count": 102,
   "id": "10ec1668",
   "metadata": {
    "scrolled": true
   },
   "outputs": [
    {
     "data": {
      "text/plain": [
       "<AxesSubplot:xlabel='Survived', ylabel='Fare'>"
      ]
     },
     "execution_count": 102,
     "metadata": {},
     "output_type": "execute_result"
    },
    {
     "data": {
      "image/png": "[encoded data removed]",
      "text/plain": [
       "<Figure size 432x288 with 1 Axes>"
      ]
     },
     "metadata": {
      "needs_background": "light"
     },
     "output_type": "display_data"
    }
   ],
   "source": [
    "sb.histplot(data = ds_train[['Fare', 'Survived']][ds_train.Fare <= 50] , y = 'Fare', x = 'Survived', color = \"pink\")"
   ]
  },
  {
   "cell_type": "markdown",
   "id": "546d28fa",
   "metadata": {},
   "source": [
    "\n"
   ]
  },
  {
   "cell_type": "markdown",
   "id": "5feaf22a",
   "metadata": {},
   "source": [
    "#### Признак \"Ticket\""
   ]
  },
  {
   "cell_type": "markdown",
   "id": "c1ba68ff",
   "metadata": {},
   "source": [
    "Можем заметить: \n",
    "* нет явной зависимости выживаемости от билета, а также стоит вспомнить о том, что уникальность данного признака не так высока (76%) "
   ]
  },
  {
   "cell_type": "code",
   "execution_count": 107,
   "id": "91bd2933",
   "metadata": {},
   "outputs": [
    {
     "data": {
      "text/plain": [
       "<AxesSubplot:xlabel='Survived', ylabel='Ticket'>"
      ]
     },
     "execution_count": 107,
     "metadata": {},
     "output_type": "execute_result"
    },
    {
     "data": {
      "image/png": "[encoded data removed]",
      "text/plain": [
       "<Figure size 432x288 with 1 Axes>"
      ]
     },
     "metadata": {
      "needs_background": "light"
     },
     "output_type": "display_data"
    }
   ],
   "source": [
    "sb.histplot(data = ds_train[['Ticket', 'Survived']][ds_train.PassengerId < 100] , y = 'Ticket', x = 'Survived', color = \"pink\")"
   ]
  },
  {
   "cell_type": "markdown",
   "id": "2fbb25e1",
   "metadata": {},
   "source": [
    "\n"
   ]
  },
  {
   "cell_type": "markdown",
   "id": "9b4a6ebc",
   "metadata": {},
   "source": [
    "#### Признак \"Embarked\"\n",
    "Можем заметить:\n",
    "* нет явных зависимостей от порта в вопросе о выживаемости,несмотря на то что в сравнении средних выживаемость тех, у кого порт посадки был С(Шербур) выше"
   ]
  },
  {
   "cell_type": "code",
   "execution_count": 98,
   "id": "39669cb2",
   "metadata": {},
   "outputs": [],
   "source": [
    "ds_embarked = new_ds_for_analisys_embarked(ds_train)"
   ]
  },
  {
   "cell_type": "code",
   "execution_count": 99,
   "id": "2c17435e",
   "metadata": {},
   "outputs": [
    {
     "data": {
      "text/plain": [
       "<AxesSubplot:xlabel='Embarked', ylabel='Survived'>"
      ]
     },
     "execution_count": 99,
     "metadata": {},
     "output_type": "execute_result"
    },
    {
     "data": {
      "image/png": "[encoded data removed]",
      "text/plain": [
       "<Figure size 432x288 with 1 Axes>"
      ]
     },
     "metadata": {
      "needs_background": "light"
     },
     "output_type": "display_data"
    }
   ],
   "source": [
    "sb.histplot(data = ds_embarked[['Embarked', 'Survived']] , x = 'Embarked', y = 'Survived', color = \"pink\")"
   ]
  },
  {
   "cell_type": "markdown",
   "id": "3e4ca683",
   "metadata": {},
   "source": [
    "\n"
   ]
  },
  {
   "cell_type": "markdown",
   "id": "d9d4dd20",
   "metadata": {},
   "source": [
    "### Промежуточный итог"
   ]
  },
  {
   "cell_type": "markdown",
   "id": "2abe3ec1",
   "metadata": {},
   "source": [
    "1. Колонка \"PassengerId\" может быть удалена ввиду отсутствия информативности"
   ]
  },
  {
   "cell_type": "markdown",
   "id": "89a28cdc",
   "metadata": {},
   "source": [
    "2. Колонка \"Ticket\" может быть удалена, поскольку она содержит большое количество дубликатов (24%) и нет явной корреляции между билетом и выживаемостью"
   ]
  },
  {
   "cell_type": "markdown",
   "id": "26e76d4d",
   "metadata": {},
   "source": [
    "3. Колонка \"Cabin\" может быть удалена, поскольку количество пустых значений как в обучающем наборе, так и тестовом слишком большое (687/891 в обучающем, 327/418 в тестовом), процент уникальности также не велик (72%)"
   ]
  },
  {
   "cell_type": "markdown",
   "id": "5290db31",
   "metadata": {},
   "source": [
    "4.  Колонка \"Embarked\" может быть удалена, поскольку данный признак является сомнительным в вопросе взаимосвязи с выживаемостью, однако не исключает связи с другими признаками"
   ]
  },
  {
   "cell_type": "markdown",
   "id": "5d17869d",
   "metadata": {},
   "source": [
    "5. Признак \"Pclass\" является значимим в определении выживаемости, а также найдены закономерности с возрастом; поддтвердилось предположение о том, что представители первого класса наиболее вероятно выживут"
   ]
  },
  {
   "cell_type": "markdown",
   "id": "a77f49a3",
   "metadata": {},
   "source": [
    "6. Колонка \"Name\" сама по себе не информативна, однако можно найти связь между статусом/положением и выживаемостью, для чего необходимо преобразовать колонку \"Name\", чтобы остались лишь такие значения: Mr., Mrs., Miss, Master и др., а в дальнейшем, если будет установлена связь, преобразовать к числовому типу, заменяя на эквивалентные значения, например: Mr. - 1, Mrs. - 2 и т.д."
   ]
  },
  {
   "cell_type": "markdown",
   "id": "fc2fb982",
   "metadata": {},
   "source": [
    "7. Признак \"Sex\" является значимим в определении выживаемости, его необходимо преобразовать в числовой, заменяя на эквивалентные значения female/male = 0/1"
   ]
  },
  {
   "cell_type": "markdown",
   "id": "eeb73cb8",
   "metadata": {},
   "source": [
    "8. Признак \"Age\" является значимим в определении выживаемости, также была выявлена необходимость в группировке по возрастным группам для облегчения анализа и увеличения информативности"
   ]
  },
  {
   "cell_type": "markdown",
   "id": "bb865f97",
   "metadata": {},
   "source": [
    "9. Признаки \"SibSp\" и \"Parch\" является значимими в определении выживаемости, можно попробовать их объединить, чтобы посмотреть взаимосвязь количества членов семьи на борту и выживаемости"
   ]
  },
  {
   "cell_type": "markdown",
   "id": "3c6e0a9a",
   "metadata": {},
   "source": [
    "10. Признак \"Fare\" является значимим в определении выживаемости, была выявлена необходимость в группировке по тарифным диапазонам для облегчения анализа и увеличения информативности"
   ]
  },
  {
   "cell_type": "markdown",
   "id": "01047742",
   "metadata": {},
   "source": [
    "\n"
   ]
  },
  {
   "cell_type": "markdown",
   "id": "a972e862",
   "metadata": {},
   "source": [
    "### Очистка и преобразование данных"
   ]
  },
  {
   "cell_type": "markdown",
   "id": "5ca1f81f",
   "metadata": {},
   "source": [
    "#### Объединение датафрэймов для удобства преобразований"
   ]
  },
  {
   "cell_type": "code",
   "execution_count": 16,
   "id": "65b96ba5",
   "metadata": {},
   "outputs": [],
   "source": [
    "combine = [ds_train, ds_test]"
   ]
  },
  {
   "cell_type": "markdown",
   "id": "29119dca",
   "metadata": {},
   "source": [
    "#### Удаление колонок"
   ]
  },
  {
   "cell_type": "markdown",
   "id": "4ccf1b9b",
   "metadata": {},
   "source": [
    "* Удаляем следующие, как выяснилось, ненужные колонки: \"Ticket\", \"Cabin\" и \"Embarked\"\n",
    "<!-- * Над данными будут совершаться преобразования, поэтому необходимо объединить тестовый и обучающий наборы -->"
   ]
  },
  {
   "cell_type": "code",
   "execution_count": 8,
   "id": "3fd710b7",
   "metadata": {},
   "outputs": [],
   "source": [
    "ds_train = ds_train.drop(['Ticket', 'Cabin', 'Embarked'], axis=1)\n",
    "ds_test = ds_test.drop(['Ticket', 'Cabin', 'Embarked'], axis=1)"
   ]
  },
  {
   "cell_type": "code",
   "execution_count": 9,
   "id": "e03f8d1e",
   "metadata": {},
   "outputs": [
    {
     "data": {
      "text/html": [
       "<div>\n",
       "<style scoped>\n",
       "    .dataframe tbody tr th:only-of-type {\n",
       "        vertical-align: middle;\n",
       "    }\n",
       "\n",
       "    .dataframe tbody tr th {\n",
       "        vertical-align: top;\n",
       "    }\n",
       "\n",
       "    .dataframe thead th {\n",
       "        text-align: right;\n",
       "    }\n",
       "</style>\n",
       "<table border=\"1\" class=\"dataframe\">\n",
       "  <thead>\n",
       "    <tr style=\"text-align: right;\">\n",
       "      <th></th>\n",
       "      <th>PassengerId</th>\n",
       "      <th>Survived</th>\n",
       "      <th>Pclass</th>\n",
       "      <th>Name</th>\n",
       "      <th>Sex</th>\n",
       "      <th>Age</th>\n",
       "      <th>SibSp</th>\n",
       "      <th>Parch</th>\n",
       "      <th>Fare</th>\n",
       "    </tr>\n",
       "  </thead>\n",
       "  <tbody>\n",
       "    <tr>\n",
       "      <th>0</th>\n",
       "      <td>1</td>\n",
       "      <td>0</td>\n",
       "      <td>3</td>\n",
       "      <td>Braund, Mr. Owen Harris</td>\n",
       "      <td>male</td>\n",
       "      <td>22.0</td>\n",
       "      <td>1</td>\n",
       "      <td>0</td>\n",
       "      <td>7.25</td>\n",
       "    </tr>\n",
       "  </tbody>\n",
       "</table>\n",
       "</div>"
      ],
      "text/plain": [
       "   PassengerId  Survived  Pclass                     Name   Sex   Age  SibSp  \\\n",
       "0            1         0       3  Braund, Mr. Owen Harris  male  22.0      1   \n",
       "\n",
       "   Parch  Fare  \n",
       "0      0  7.25  "
      ]
     },
     "execution_count": 9,
     "metadata": {},
     "output_type": "execute_result"
    }
   ],
   "source": [
    "ds_train.head(1)"
   ]
  },
  {
   "cell_type": "code",
   "execution_count": 10,
   "id": "eeca8518",
   "metadata": {},
   "outputs": [
    {
     "data": {
      "text/html": [
       "<div>\n",
       "<style scoped>\n",
       "    .dataframe tbody tr th:only-of-type {\n",
       "        vertical-align: middle;\n",
       "    }\n",
       "\n",
       "    .dataframe tbody tr th {\n",
       "        vertical-align: top;\n",
       "    }\n",
       "\n",
       "    .dataframe thead th {\n",
       "        text-align: right;\n",
       "    }\n",
       "</style>\n",
       "<table border=\"1\" class=\"dataframe\">\n",
       "  <thead>\n",
       "    <tr style=\"text-align: right;\">\n",
       "      <th></th>\n",
       "      <th>PassengerId</th>\n",
       "      <th>Pclass</th>\n",
       "      <th>Name</th>\n",
       "      <th>Sex</th>\n",
       "      <th>Age</th>\n",
       "      <th>SibSp</th>\n",
       "      <th>Parch</th>\n",
       "      <th>Fare</th>\n",
       "    </tr>\n",
       "  </thead>\n",
       "  <tbody>\n",
       "    <tr>\n",
       "      <th>0</th>\n",
       "      <td>892</td>\n",
       "      <td>3</td>\n",
       "      <td>Kelly, Mr. James</td>\n",
       "      <td>male</td>\n",
       "      <td>34.5</td>\n",
       "      <td>0</td>\n",
       "      <td>0</td>\n",
       "      <td>7.8292</td>\n",
       "    </tr>\n",
       "  </tbody>\n",
       "</table>\n",
       "</div>"
      ],
      "text/plain": [
       "   PassengerId  Pclass              Name   Sex   Age  SibSp  Parch    Fare\n",
       "0          892       3  Kelly, Mr. James  male  34.5      0      0  7.8292"
      ]
     },
     "execution_count": 10,
     "metadata": {},
     "output_type": "execute_result"
    }
   ],
   "source": [
    "ds_test.head(1)"
   ]
  },
  {
   "cell_type": "markdown",
   "id": "92f84e75",
   "metadata": {},
   "source": [
    "#### Выявление корреляции между титулом/положением и выживаемостью"
   ]
  },
  {
   "cell_type": "markdown",
   "id": "5e1c20ba",
   "metadata": {},
   "source": [
    "* Конструируем из колонки \"Name\" новый признак, обозначающий титул/положение\n",
    "- Перед титулом/положением пробел, а после стоит .  ⇒ мы можем использовать данные символы для границ регулярного выражения"
   ]
  },
  {
   "cell_type": "code",
   "execution_count": 11,
   "id": "98aa587a",
   "metadata": {},
   "outputs": [],
   "source": [
    "ds_for_check = ds_train.copy()"
   ]
  },
  {
   "cell_type": "code",
   "execution_count": 12,
   "id": "6a9da05b",
   "metadata": {},
   "outputs": [],
   "source": [
    "ds_for_check['Title'] = ds_train.Name.str.extract(' ([A-Za-z]+)\\.', expand=False)"
   ]
  },
  {
   "cell_type": "code",
   "execution_count": 13,
   "id": "dfa2ce65",
   "metadata": {},
   "outputs": [
    {
     "data": {
      "text/plain": [
       "<AxesSubplot:xlabel='Count', ylabel='Title'>"
      ]
     },
     "execution_count": 13,
     "metadata": {},
     "output_type": "execute_result"
    },
    {
     "data": {
      "image/png": "[encoded data removed]",
      "text/plain": [
       "<Figure size 432x288 with 1 Axes>"
      ]
     },
     "metadata": {
      "needs_background": "light"
     },
     "output_type": "display_data"
    }
   ],
   "source": [
    "sb.histplot(data = ds_for_check[['Title']] , y = 'Title', color = \"pink\")"
   ]
  },
  {
   "cell_type": "markdown",
   "id": "1c050c3a",
   "metadata": {},
   "source": [
    "\n"
   ]
  },
  {
   "cell_type": "code",
   "execution_count": 90,
   "id": "1b02a21f",
   "metadata": {},
   "outputs": [
    {
     "data": {
      "text/html": [
       "<div>\n",
       "<style scoped>\n",
       "    .dataframe tbody tr th:only-of-type {\n",
       "        vertical-align: middle;\n",
       "    }\n",
       "\n",
       "    .dataframe tbody tr th {\n",
       "        vertical-align: top;\n",
       "    }\n",
       "\n",
       "    .dataframe thead th {\n",
       "        text-align: right;\n",
       "    }\n",
       "</style>\n",
       "<table border=\"1\" class=\"dataframe\">\n",
       "  <thead>\n",
       "    <tr style=\"text-align: right;\">\n",
       "      <th></th>\n",
       "      <th>Title</th>\n",
       "      <th>Survived</th>\n",
       "    </tr>\n",
       "  </thead>\n",
       "  <tbody>\n",
       "    <tr>\n",
       "      <th>16</th>\n",
       "      <td>Sir</td>\n",
       "      <td>1.000000</td>\n",
       "    </tr>\n",
       "    <tr>\n",
       "      <th>2</th>\n",
       "      <td>Countess</td>\n",
       "      <td>1.000000</td>\n",
       "    </tr>\n",
       "    <tr>\n",
       "      <th>14</th>\n",
       "      <td>Ms</td>\n",
       "      <td>1.000000</td>\n",
       "    </tr>\n",
       "    <tr>\n",
       "      <th>11</th>\n",
       "      <td>Mme</td>\n",
       "      <td>1.000000</td>\n",
       "    </tr>\n",
       "    <tr>\n",
       "      <th>6</th>\n",
       "      <td>Lady</td>\n",
       "      <td>1.000000</td>\n",
       "    </tr>\n",
       "    <tr>\n",
       "      <th>10</th>\n",
       "      <td>Mlle</td>\n",
       "      <td>1.000000</td>\n",
       "    </tr>\n",
       "    <tr>\n",
       "      <th>13</th>\n",
       "      <td>Mrs</td>\n",
       "      <td>0.792000</td>\n",
       "    </tr>\n",
       "    <tr>\n",
       "      <th>9</th>\n",
       "      <td>Miss</td>\n",
       "      <td>0.697802</td>\n",
       "    </tr>\n",
       "    <tr>\n",
       "      <th>8</th>\n",
       "      <td>Master</td>\n",
       "      <td>0.575000</td>\n",
       "    </tr>\n",
       "    <tr>\n",
       "      <th>1</th>\n",
       "      <td>Col</td>\n",
       "      <td>0.500000</td>\n",
       "    </tr>\n",
       "    <tr>\n",
       "      <th>7</th>\n",
       "      <td>Major</td>\n",
       "      <td>0.500000</td>\n",
       "    </tr>\n",
       "    <tr>\n",
       "      <th>4</th>\n",
       "      <td>Dr</td>\n",
       "      <td>0.428571</td>\n",
       "    </tr>\n",
       "    <tr>\n",
       "      <th>12</th>\n",
       "      <td>Mr</td>\n",
       "      <td>0.156673</td>\n",
       "    </tr>\n",
       "    <tr>\n",
       "      <th>5</th>\n",
       "      <td>Jonkheer</td>\n",
       "      <td>0.000000</td>\n",
       "    </tr>\n",
       "    <tr>\n",
       "      <th>3</th>\n",
       "      <td>Don</td>\n",
       "      <td>0.000000</td>\n",
       "    </tr>\n",
       "    <tr>\n",
       "      <th>15</th>\n",
       "      <td>Rev</td>\n",
       "      <td>0.000000</td>\n",
       "    </tr>\n",
       "    <tr>\n",
       "      <th>0</th>\n",
       "      <td>Capt</td>\n",
       "      <td>0.000000</td>\n",
       "    </tr>\n",
       "  </tbody>\n",
       "</table>\n",
       "</div>"
      ],
      "text/plain": [
       "       Title  Survived\n",
       "16       Sir  1.000000\n",
       "2   Countess  1.000000\n",
       "14        Ms  1.000000\n",
       "11       Mme  1.000000\n",
       "6       Lady  1.000000\n",
       "10      Mlle  1.000000\n",
       "13       Mrs  0.792000\n",
       "9       Miss  0.697802\n",
       "8     Master  0.575000\n",
       "1        Col  0.500000\n",
       "7      Major  0.500000\n",
       "4         Dr  0.428571\n",
       "12        Mr  0.156673\n",
       "5   Jonkheer  0.000000\n",
       "3        Don  0.000000\n",
       "15       Rev  0.000000\n",
       "0       Capt  0.000000"
      ]
     },
     "execution_count": 90,
     "metadata": {},
     "output_type": "execute_result"
    }
   ],
   "source": [
    "ds_for_check[['Title', 'Survived']].groupby(['Title'], as_index=False).mean().sort_values(by='Survived', ascending=False)"
   ]
  },
  {
   "cell_type": "markdown",
   "id": "6c17fdd8",
   "metadata": {},
   "source": [
    "* Мы видим, что между титулом/положением и выживаемотью есть взаимосвязь, однако добавить сразу колонку \"Title\" мы не можем, поскольку есть много редких значений, которые могут сбить с толку, человек мог быть один и выжить, но это не значит, что человек, имеющий тот же признак, однозначно бы выжил. "
   ]
  },
  {
   "cell_type": "code",
   "execution_count": 14,
   "id": "ade7f740",
   "metadata": {},
   "outputs": [],
   "source": [
    "ds_for_check['Title'] = ds_for_check['Title'].replace(['Lady', 'Countess','Capt', 'Col', 'Don', 'Dr', \n",
    "                                               'Major', 'Rev', 'Sir', 'Jonkheer', 'Dona'], 'Rare')\n",
    "\n",
    "ds_for_check['Title'] = ds_for_check['Title'].replace(['Mlle', 'Ms'], 'Miss')\n",
    "\n",
    "ds_for_check['Title'] = ds_for_check['Title'].replace('Mme', 'Mrs')"
   ]
  },
  {
   "cell_type": "markdown",
   "id": "cd8a3426",
   "metadata": {},
   "source": [
    "\n"
   ]
  },
  {
   "cell_type": "code",
   "execution_count": 92,
   "id": "6d2aad8b",
   "metadata": {},
   "outputs": [
    {
     "data": {
      "text/plain": [
       "array(['Mr', 'Mrs', 'Miss', 'Master', 'Rare'], dtype=object)"
      ]
     },
     "execution_count": 92,
     "metadata": {},
     "output_type": "execute_result"
    }
   ],
   "source": [
    "ds_for_check.Title.unique()"
   ]
  },
  {
   "cell_type": "markdown",
   "id": "ad7fdde5",
   "metadata": {},
   "source": [
    "\n"
   ]
  },
  {
   "cell_type": "markdown",
   "id": "f361c622",
   "metadata": {},
   "source": [
    "* Можно заметить, что теперь взаимосвязь между титулом/положением и выживаемостью стала яснее \n",
    "* Теперь необходимо преобразовать категориальный признак \"Title\" в числовой, чтобы с ним было легче работать"
   ]
  },
  {
   "cell_type": "code",
   "execution_count": 93,
   "id": "6fef2b33",
   "metadata": {
    "scrolled": true
   },
   "outputs": [
    {
     "data": {
      "text/html": [
       "<div>\n",
       "<style scoped>\n",
       "    .dataframe tbody tr th:only-of-type {\n",
       "        vertical-align: middle;\n",
       "    }\n",
       "\n",
       "    .dataframe tbody tr th {\n",
       "        vertical-align: top;\n",
       "    }\n",
       "\n",
       "    .dataframe thead th {\n",
       "        text-align: right;\n",
       "    }\n",
       "</style>\n",
       "<table border=\"1\" class=\"dataframe\">\n",
       "  <thead>\n",
       "    <tr style=\"text-align: right;\">\n",
       "      <th></th>\n",
       "      <th>Title</th>\n",
       "      <th>Survived</th>\n",
       "    </tr>\n",
       "  </thead>\n",
       "  <tbody>\n",
       "    <tr>\n",
       "      <th>3</th>\n",
       "      <td>Mrs</td>\n",
       "      <td>0.793651</td>\n",
       "    </tr>\n",
       "    <tr>\n",
       "      <th>1</th>\n",
       "      <td>Miss</td>\n",
       "      <td>0.702703</td>\n",
       "    </tr>\n",
       "    <tr>\n",
       "      <th>0</th>\n",
       "      <td>Master</td>\n",
       "      <td>0.575000</td>\n",
       "    </tr>\n",
       "    <tr>\n",
       "      <th>4</th>\n",
       "      <td>Rare</td>\n",
       "      <td>0.347826</td>\n",
       "    </tr>\n",
       "    <tr>\n",
       "      <th>2</th>\n",
       "      <td>Mr</td>\n",
       "      <td>0.156673</td>\n",
       "    </tr>\n",
       "  </tbody>\n",
       "</table>\n",
       "</div>"
      ],
      "text/plain": [
       "    Title  Survived\n",
       "3     Mrs  0.793651\n",
       "1    Miss  0.702703\n",
       "0  Master  0.575000\n",
       "4    Rare  0.347826\n",
       "2      Mr  0.156673"
      ]
     },
     "execution_count": 93,
     "metadata": {},
     "output_type": "execute_result"
    }
   ],
   "source": [
    "ds_for_check[['Title', 'Survived']].groupby(['Title'], as_index=False).mean().sort_values(by='Survived', ascending=False)"
   ]
  },
  {
   "cell_type": "markdown",
   "id": "2ad3fde2",
   "metadata": {},
   "source": [
    "\n"
   ]
  },
  {
   "cell_type": "markdown",
   "id": "16685d83",
   "metadata": {},
   "source": [
    "* После проверки, в результате которой мы убедились в правильности предположения, мы можем совершить те же преобразования над настоящими датафрэймами"
   ]
  },
  {
   "cell_type": "code",
   "execution_count": 17,
   "id": "b5adb970",
   "metadata": {},
   "outputs": [],
   "source": [
    "for ds in combine:\n",
    "    ds['Title'] = ds.Name.str.extract(' ([A-Za-z]+)\\.', expand=False)"
   ]
  },
  {
   "cell_type": "markdown",
   "id": "1385136e",
   "metadata": {},
   "source": [
    "\n"
   ]
  },
  {
   "cell_type": "code",
   "execution_count": 18,
   "id": "884aa0b2",
   "metadata": {},
   "outputs": [],
   "source": [
    "for ds in combine:\n",
    "    ds['Title'] = ds['Title'].replace(['Lady', 'Countess','Capt', 'Col', 'Don', 'Dr', \n",
    "                                               'Major', 'Rev', 'Sir', 'Jonkheer', 'Dona'], 'Rare')\n",
    "    \n",
    "    ds['Title'] = ds['Title'].replace(['Mlle', 'Ms'], 'Miss')\n",
    "\n",
    "    ds['Title'] = ds['Title'].replace('Mme', 'Mrs')"
   ]
  },
  {
   "cell_type": "markdown",
   "id": "f4612819",
   "metadata": {},
   "source": [
    "\n"
   ]
  },
  {
   "cell_type": "code",
   "execution_count": 19,
   "id": "4baa915f",
   "metadata": {},
   "outputs": [],
   "source": [
    "title_mapping = {\"Mr\": 1, \"Miss\": 2, \"Mrs\": 3, \"Master\": 4, \"Rare\": 5}\n",
    "for ds in combine:\n",
    "    ds['Title'] = ds['Title'].map(title_mapping)\n",
    "    ds['Title'] = ds['Title'].fillna(0)\n"
   ]
  },
  {
   "cell_type": "markdown",
   "id": "29d06873",
   "metadata": {},
   "source": [
    "\n"
   ]
  },
  {
   "cell_type": "markdown",
   "id": "67a7a275",
   "metadata": {},
   "source": [
    "#### Удаляем неинформативные после преобразований колонки "
   ]
  },
  {
   "cell_type": "code",
   "execution_count": 20,
   "id": "7bf0ac4f",
   "metadata": {},
   "outputs": [],
   "source": [
    "ds_train = ds_train.drop(['Name', 'PassengerId'], axis=1)\n",
    "ds_test = ds_test.drop(['Name'], axis=1)"
   ]
  },
  {
   "cell_type": "code",
   "execution_count": 21,
   "id": "f8c71c8a",
   "metadata": {
    "scrolled": true
   },
   "outputs": [
    {
     "data": {
      "text/html": [
       "<div>\n",
       "<style scoped>\n",
       "    .dataframe tbody tr th:only-of-type {\n",
       "        vertical-align: middle;\n",
       "    }\n",
       "\n",
       "    .dataframe tbody tr th {\n",
       "        vertical-align: top;\n",
       "    }\n",
       "\n",
       "    .dataframe thead th {\n",
       "        text-align: right;\n",
       "    }\n",
       "</style>\n",
       "<table border=\"1\" class=\"dataframe\">\n",
       "  <thead>\n",
       "    <tr style=\"text-align: right;\">\n",
       "      <th></th>\n",
       "      <th>Survived</th>\n",
       "      <th>Pclass</th>\n",
       "      <th>Sex</th>\n",
       "      <th>Age</th>\n",
       "      <th>SibSp</th>\n",
       "      <th>Parch</th>\n",
       "      <th>Fare</th>\n",
       "      <th>Title</th>\n",
       "    </tr>\n",
       "  </thead>\n",
       "  <tbody>\n",
       "    <tr>\n",
       "      <th>0</th>\n",
       "      <td>0</td>\n",
       "      <td>3</td>\n",
       "      <td>male</td>\n",
       "      <td>22.0</td>\n",
       "      <td>1</td>\n",
       "      <td>0</td>\n",
       "      <td>7.25</td>\n",
       "      <td>1</td>\n",
       "    </tr>\n",
       "  </tbody>\n",
       "</table>\n",
       "</div>"
      ],
      "text/plain": [
       "   Survived  Pclass   Sex   Age  SibSp  Parch  Fare  Title\n",
       "0         0       3  male  22.0      1      0  7.25      1"
      ]
     },
     "execution_count": 21,
     "metadata": {},
     "output_type": "execute_result"
    }
   ],
   "source": [
    "ds_train.head(1)"
   ]
  },
  {
   "cell_type": "code",
   "execution_count": 22,
   "id": "72d8b053",
   "metadata": {
    "scrolled": false
   },
   "outputs": [
    {
     "data": {
      "text/html": [
       "<div>\n",
       "<style scoped>\n",
       "    .dataframe tbody tr th:only-of-type {\n",
       "        vertical-align: middle;\n",
       "    }\n",
       "\n",
       "    .dataframe tbody tr th {\n",
       "        vertical-align: top;\n",
       "    }\n",
       "\n",
       "    .dataframe thead th {\n",
       "        text-align: right;\n",
       "    }\n",
       "</style>\n",
       "<table border=\"1\" class=\"dataframe\">\n",
       "  <thead>\n",
       "    <tr style=\"text-align: right;\">\n",
       "      <th></th>\n",
       "      <th>PassengerId</th>\n",
       "      <th>Pclass</th>\n",
       "      <th>Sex</th>\n",
       "      <th>Age</th>\n",
       "      <th>SibSp</th>\n",
       "      <th>Parch</th>\n",
       "      <th>Fare</th>\n",
       "      <th>Title</th>\n",
       "    </tr>\n",
       "  </thead>\n",
       "  <tbody>\n",
       "    <tr>\n",
       "      <th>0</th>\n",
       "      <td>892</td>\n",
       "      <td>3</td>\n",
       "      <td>male</td>\n",
       "      <td>34.5</td>\n",
       "      <td>0</td>\n",
       "      <td>0</td>\n",
       "      <td>7.8292</td>\n",
       "      <td>1</td>\n",
       "    </tr>\n",
       "  </tbody>\n",
       "</table>\n",
       "</div>"
      ],
      "text/plain": [
       "   PassengerId  Pclass   Sex   Age  SibSp  Parch    Fare  Title\n",
       "0          892       3  male  34.5      0      0  7.8292      1"
      ]
     },
     "execution_count": 22,
     "metadata": {},
     "output_type": "execute_result"
    }
   ],
   "source": [
    "ds_test.head(1)"
   ]
  },
  {
   "cell_type": "markdown",
   "id": "f8eee57d",
   "metadata": {},
   "source": [
    "\n"
   ]
  },
  {
   "cell_type": "markdown",
   "id": "068f70ba",
   "metadata": {},
   "source": [
    "#### Преобразование признака \"Sex\""
   ]
  },
  {
   "cell_type": "code",
   "execution_count": 23,
   "id": "cf1f2b45",
   "metadata": {},
   "outputs": [],
   "source": [
    "ds_train['Sex'] = ds_train['Sex'].map( {'female': 1, 'male': 0} ).astype(int)\n",
    "ds_test['Sex'] = ds_test['Sex'].map( {'female': 1, 'male': 0} ).astype(int)"
   ]
  },
  {
   "cell_type": "code",
   "execution_count": 24,
   "id": "63fbf17e",
   "metadata": {
    "scrolled": true
   },
   "outputs": [
    {
     "data": {
      "text/html": [
       "<div>\n",
       "<style scoped>\n",
       "    .dataframe tbody tr th:only-of-type {\n",
       "        vertical-align: middle;\n",
       "    }\n",
       "\n",
       "    .dataframe tbody tr th {\n",
       "        vertical-align: top;\n",
       "    }\n",
       "\n",
       "    .dataframe thead th {\n",
       "        text-align: right;\n",
       "    }\n",
       "</style>\n",
       "<table border=\"1\" class=\"dataframe\">\n",
       "  <thead>\n",
       "    <tr style=\"text-align: right;\">\n",
       "      <th></th>\n",
       "      <th>Survived</th>\n",
       "      <th>Pclass</th>\n",
       "      <th>Sex</th>\n",
       "      <th>Age</th>\n",
       "      <th>SibSp</th>\n",
       "      <th>Parch</th>\n",
       "      <th>Fare</th>\n",
       "      <th>Title</th>\n",
       "    </tr>\n",
       "  </thead>\n",
       "  <tbody>\n",
       "    <tr>\n",
       "      <th>0</th>\n",
       "      <td>0</td>\n",
       "      <td>3</td>\n",
       "      <td>0</td>\n",
       "      <td>22.0</td>\n",
       "      <td>1</td>\n",
       "      <td>0</td>\n",
       "      <td>7.25</td>\n",
       "      <td>1</td>\n",
       "    </tr>\n",
       "  </tbody>\n",
       "</table>\n",
       "</div>"
      ],
      "text/plain": [
       "   Survived  Pclass  Sex   Age  SibSp  Parch  Fare  Title\n",
       "0         0       3    0  22.0      1      0  7.25      1"
      ]
     },
     "execution_count": 24,
     "metadata": {},
     "output_type": "execute_result"
    }
   ],
   "source": [
    "ds_train.head(1)"
   ]
  },
  {
   "cell_type": "markdown",
   "id": "9dfbfd11",
   "metadata": {},
   "source": [
    "#### Преобразование признака \"Age\""
   ]
  },
  {
   "cell_type": "markdown",
   "id": "d14b4c88",
   "metadata": {},
   "source": [
    "* Данный признак имеет пустые значения, необходимо их заполнить, это можно сделать следующими способами:\n",
    "1. Заполнить пробелы средними значениями\n",
    "2. Зполнить пробелы средними значениями с учетом других признаков и корреляции между ними и возрастом\n",
    "3. Удалить строки с пустыми значениями"
   ]
  },
  {
   "cell_type": "markdown",
   "id": "4d8136da",
   "metadata": {},
   "source": [
    "* Отобразим зависимость между возрастом и другими признаками"
   ]
  },
  {
   "cell_type": "code",
   "execution_count": 30,
   "id": "4f2c9c0b",
   "metadata": {},
   "outputs": [
    {
     "name": "stdout",
     "output_type": "stream",
     "text": [
      "female = 0 \n",
      "male = 1\n"
     ]
    },
    {
     "name": "stderr",
     "output_type": "stream",
     "text": [
      "C:\\1_CODE\\Anaconda\\lib\\site-packages\\seaborn\\axisgrid.py:316: UserWarning: The `size` parameter has been renamed to `height`; please update your code.\n",
      "  warnings.warn(msg, UserWarning)\n"
     ]
    },
    {
     "data": {
      "text/plain": [
       "<seaborn.axisgrid.FacetGrid at 0x17c818a89d0>"
      ]
     },
     "execution_count": 30,
     "metadata": {},
     "output_type": "execute_result"
    },
    {
     "data": {
      "image/png": "[encoded data removed]",
      "text/plain": [
       "<Figure size 844.56x331.2 with 6 Axes>"
      ]
     },
     "metadata": {
      "needs_background": "light"
     },
     "output_type": "display_data"
    }
   ],
   "source": [
    "print('female = 0 \\nmale = 1')\n",
    "grid = sb.FacetGrid(ds_train, col='Pclass', row='Sex', size=2.3, aspect=1.7)\n",
    "grid.map(plt.pyplot.hist, 'Age', alpha=.5, bins=20, color='lightcoral')"
   ]
  },
  {
   "cell_type": "code",
   "execution_count": 106,
   "id": "c1e02abe",
   "metadata": {
    "scrolled": false
   },
   "outputs": [
    {
     "name": "stdout",
     "output_type": "stream",
     "text": [
      "female = 0 \n",
      "male = 1\n"
     ]
    },
    {
     "name": "stderr",
     "output_type": "stream",
     "text": [
      "C:\\1_CODE\\Anaconda\\lib\\site-packages\\seaborn\\axisgrid.py:316: UserWarning: The `size` parameter has been renamed to `height`; please update your code.\n",
      "  warnings.warn(msg, UserWarning)\n"
     ]
    },
    {
     "data": {
      "text/plain": [
       "<seaborn.axisgrid.FacetGrid at 0x17c888e20a0>"
      ]
     },
     "execution_count": 106,
     "metadata": {},
     "output_type": "execute_result"
    },
    {
     "data": {
      "image/png": "[encoded data removed]",
      "text/plain": [
       "<Figure size 1407.6x331.2 with 10 Axes>"
      ]
     },
     "metadata": {
      "needs_background": "light"
     },
     "output_type": "display_data"
    }
   ],
   "source": [
    "print('female = 0 \\nmale = 1')\n",
    "grid = sb.FacetGrid(ds_train, col='Title', row='Sex', size=2.3, aspect=1.7)\n",
    "grid.map(plt.pyplot.hist, 'Age', alpha=.5, bins=20, color='lightcoral')"
   ]
  },
  {
   "cell_type": "markdown",
   "id": "0f42fcc7",
   "metadata": {},
   "source": [
    "\n"
   ]
  },
  {
   "cell_type": "code",
   "execution_count": 25,
   "id": "aabf5005",
   "metadata": {},
   "outputs": [],
   "source": [
    "ds_train.loc[ ds_train['Age'] <= 16, 'Age'] = 0\n",
    "ds_train.loc[(ds_train['Age'] > 16) & (ds_train['Age'] <= 32), 'Age'] = 1\n",
    "ds_train.loc[(ds_train['Age'] > 32) & (ds_train['Age'] <= 48), 'Age'] = 2\n",
    "ds_train.loc[(ds_train['Age'] > 48) & (ds_train['Age'] <= 64), 'Age'] = 3\n",
    "ds_train.loc[ ds_train['Age'] > 64, 'Age'] = 4"
   ]
  },
  {
   "cell_type": "code",
   "execution_count": 26,
   "id": "bfa31fc2",
   "metadata": {},
   "outputs": [],
   "source": [
    "ds_test.loc[ ds_test['Age'] <= 16, 'Age'] = 0\n",
    "ds_test.loc[(ds_test['Age'] > 16) & (ds_test['Age'] <= 32), 'Age'] = 1\n",
    "ds_test.loc[(ds_test['Age'] > 32) & (ds_test['Age'] <= 48), 'Age'] = 2\n",
    "ds_test.loc[(ds_test['Age'] > 48) & (ds_test['Age'] <= 64), 'Age'] = 3\n",
    "ds_test.loc[ ds_test['Age'] > 64, 'Age'] = 4"
   ]
  },
  {
   "cell_type": "markdown",
   "id": "deaf9e4b",
   "metadata": {},
   "source": [
    "\n"
   ]
  },
  {
   "cell_type": "code",
   "execution_count": 27,
   "id": "114ed74d",
   "metadata": {},
   "outputs": [],
   "source": [
    "ds_train = ds_train.dropna(axis=0)"
   ]
  },
  {
   "cell_type": "code",
   "execution_count": 28,
   "id": "632f00bc",
   "metadata": {},
   "outputs": [],
   "source": [
    "ds_test = ds_test.dropna(axis=0)"
   ]
  },
  {
   "cell_type": "code",
   "execution_count": 29,
   "id": "1da557ca",
   "metadata": {},
   "outputs": [],
   "source": [
    "ds_train['Age'] = ds_train['Age'].astype(int)"
   ]
  },
  {
   "cell_type": "code",
   "execution_count": 30,
   "id": "a34cfe29",
   "metadata": {},
   "outputs": [],
   "source": [
    "ds_test['Age'] = ds_test['Age'].astype(int)"
   ]
  },
  {
   "cell_type": "code",
   "execution_count": 31,
   "id": "47456daf",
   "metadata": {},
   "outputs": [
    {
     "data": {
      "text/html": [
       "<div>\n",
       "<style scoped>\n",
       "    .dataframe tbody tr th:only-of-type {\n",
       "        vertical-align: middle;\n",
       "    }\n",
       "\n",
       "    .dataframe tbody tr th {\n",
       "        vertical-align: top;\n",
       "    }\n",
       "\n",
       "    .dataframe thead th {\n",
       "        text-align: right;\n",
       "    }\n",
       "</style>\n",
       "<table border=\"1\" class=\"dataframe\">\n",
       "  <thead>\n",
       "    <tr style=\"text-align: right;\">\n",
       "      <th></th>\n",
       "      <th>PassengerId</th>\n",
       "      <th>Pclass</th>\n",
       "      <th>Sex</th>\n",
       "      <th>Age</th>\n",
       "      <th>SibSp</th>\n",
       "      <th>Parch</th>\n",
       "      <th>Fare</th>\n",
       "      <th>Title</th>\n",
       "    </tr>\n",
       "  </thead>\n",
       "  <tbody>\n",
       "    <tr>\n",
       "      <th>0</th>\n",
       "      <td>892</td>\n",
       "      <td>3</td>\n",
       "      <td>0</td>\n",
       "      <td>2</td>\n",
       "      <td>0</td>\n",
       "      <td>0</td>\n",
       "      <td>7.8292</td>\n",
       "      <td>1</td>\n",
       "    </tr>\n",
       "    <tr>\n",
       "      <th>1</th>\n",
       "      <td>893</td>\n",
       "      <td>3</td>\n",
       "      <td>1</td>\n",
       "      <td>2</td>\n",
       "      <td>1</td>\n",
       "      <td>0</td>\n",
       "      <td>7.0000</td>\n",
       "      <td>3</td>\n",
       "    </tr>\n",
       "    <tr>\n",
       "      <th>2</th>\n",
       "      <td>894</td>\n",
       "      <td>2</td>\n",
       "      <td>0</td>\n",
       "      <td>3</td>\n",
       "      <td>0</td>\n",
       "      <td>0</td>\n",
       "      <td>9.6875</td>\n",
       "      <td>1</td>\n",
       "    </tr>\n",
       "    <tr>\n",
       "      <th>3</th>\n",
       "      <td>895</td>\n",
       "      <td>3</td>\n",
       "      <td>0</td>\n",
       "      <td>1</td>\n",
       "      <td>0</td>\n",
       "      <td>0</td>\n",
       "      <td>8.6625</td>\n",
       "      <td>1</td>\n",
       "    </tr>\n",
       "    <tr>\n",
       "      <th>4</th>\n",
       "      <td>896</td>\n",
       "      <td>3</td>\n",
       "      <td>1</td>\n",
       "      <td>1</td>\n",
       "      <td>1</td>\n",
       "      <td>1</td>\n",
       "      <td>12.2875</td>\n",
       "      <td>3</td>\n",
       "    </tr>\n",
       "    <tr>\n",
       "      <th>...</th>\n",
       "      <td>...</td>\n",
       "      <td>...</td>\n",
       "      <td>...</td>\n",
       "      <td>...</td>\n",
       "      <td>...</td>\n",
       "      <td>...</td>\n",
       "      <td>...</td>\n",
       "      <td>...</td>\n",
       "    </tr>\n",
       "    <tr>\n",
       "      <th>409</th>\n",
       "      <td>1301</td>\n",
       "      <td>3</td>\n",
       "      <td>1</td>\n",
       "      <td>0</td>\n",
       "      <td>1</td>\n",
       "      <td>1</td>\n",
       "      <td>13.7750</td>\n",
       "      <td>2</td>\n",
       "    </tr>\n",
       "    <tr>\n",
       "      <th>411</th>\n",
       "      <td>1303</td>\n",
       "      <td>1</td>\n",
       "      <td>1</td>\n",
       "      <td>2</td>\n",
       "      <td>1</td>\n",
       "      <td>0</td>\n",
       "      <td>90.0000</td>\n",
       "      <td>3</td>\n",
       "    </tr>\n",
       "    <tr>\n",
       "      <th>412</th>\n",
       "      <td>1304</td>\n",
       "      <td>3</td>\n",
       "      <td>1</td>\n",
       "      <td>1</td>\n",
       "      <td>0</td>\n",
       "      <td>0</td>\n",
       "      <td>7.7750</td>\n",
       "      <td>2</td>\n",
       "    </tr>\n",
       "    <tr>\n",
       "      <th>414</th>\n",
       "      <td>1306</td>\n",
       "      <td>1</td>\n",
       "      <td>1</td>\n",
       "      <td>2</td>\n",
       "      <td>0</td>\n",
       "      <td>0</td>\n",
       "      <td>108.9000</td>\n",
       "      <td>5</td>\n",
       "    </tr>\n",
       "    <tr>\n",
       "      <th>415</th>\n",
       "      <td>1307</td>\n",
       "      <td>3</td>\n",
       "      <td>0</td>\n",
       "      <td>2</td>\n",
       "      <td>0</td>\n",
       "      <td>0</td>\n",
       "      <td>7.2500</td>\n",
       "      <td>1</td>\n",
       "    </tr>\n",
       "  </tbody>\n",
       "</table>\n",
       "<p>331 rows × 8 columns</p>\n",
       "</div>"
      ],
      "text/plain": [
       "     PassengerId  Pclass  Sex  Age  SibSp  Parch      Fare  Title\n",
       "0            892       3    0    2      0      0    7.8292      1\n",
       "1            893       3    1    2      1      0    7.0000      3\n",
       "2            894       2    0    3      0      0    9.6875      1\n",
       "3            895       3    0    1      0      0    8.6625      1\n",
       "4            896       3    1    1      1      1   12.2875      3\n",
       "..           ...     ...  ...  ...    ...    ...       ...    ...\n",
       "409         1301       3    1    0      1      1   13.7750      2\n",
       "411         1303       1    1    2      1      0   90.0000      3\n",
       "412         1304       3    1    1      0      0    7.7750      2\n",
       "414         1306       1    1    2      0      0  108.9000      5\n",
       "415         1307       3    0    2      0      0    7.2500      1\n",
       "\n",
       "[331 rows x 8 columns]"
      ]
     },
     "execution_count": 31,
     "metadata": {},
     "output_type": "execute_result"
    }
   ],
   "source": [
    "ds_test"
   ]
  },
  {
   "cell_type": "markdown",
   "id": "70ac296c",
   "metadata": {},
   "source": [
    "\n"
   ]
  },
  {
   "cell_type": "markdown",
   "id": "8c982844",
   "metadata": {},
   "source": [
    "#### Преобразование признака \"Fare\""
   ]
  },
  {
   "cell_type": "code",
   "execution_count": 32,
   "id": "659f5d41",
   "metadata": {},
   "outputs": [],
   "source": [
    "ds_test['Fare'].fillna(ds_test['Fare'].dropna().median(), inplace=True)"
   ]
  },
  {
   "cell_type": "code",
   "execution_count": 33,
   "id": "8977a9a4",
   "metadata": {},
   "outputs": [],
   "source": [
    "ds_train['Fare'].fillna(ds_train['Fare'].dropna().median(), inplace=True)"
   ]
  },
  {
   "cell_type": "markdown",
   "id": "8d8c8bd7",
   "metadata": {},
   "source": [
    "\n"
   ]
  },
  {
   "cell_type": "code",
   "execution_count": 34,
   "id": "ac2aa5f5",
   "metadata": {},
   "outputs": [],
   "source": [
    "ds_train.loc[ ds_train['Fare'] <= 7.91, 'Fare'] = 0\n",
    "ds_train.loc[(ds_train['Fare'] > 7.91) & (ds_train['Fare'] <= 14.454), 'Fare'] = 1\n",
    "ds_train.loc[(ds_train['Fare'] > 14.454) & (ds_train['Fare'] <= 31), 'Fare']   = 2\n",
    "ds_train.loc[ ds_train['Fare'] > 31, 'Fare'] = 3\n",
    "ds_train['Fare'] = ds_train['Fare'].astype(int)"
   ]
  },
  {
   "cell_type": "code",
   "execution_count": 35,
   "id": "2be3e57f",
   "metadata": {},
   "outputs": [],
   "source": [
    "ds_test.loc[ ds_test['Fare'] <= 7.91, 'Fare'] = 0\n",
    "ds_test.loc[(ds_test['Fare'] > 7.91) & (ds_test['Fare'] <= 14.454), 'Fare'] = 1\n",
    "ds_test.loc[(ds_test['Fare'] > 14.454) & (ds_test['Fare'] <= 31), 'Fare']   = 2\n",
    "ds_test.loc[ ds_test['Fare'] > 31, 'Fare'] = 3\n",
    "ds_test['Fare'] = ds_test['Fare'].astype(int)"
   ]
  },
  {
   "cell_type": "markdown",
   "id": "7dcdb825",
   "metadata": {},
   "source": [
    "\n"
   ]
  },
  {
   "cell_type": "code",
   "execution_count": 36,
   "id": "0abbee7d",
   "metadata": {},
   "outputs": [
    {
     "data": {
      "text/html": [
       "<div>\n",
       "<style scoped>\n",
       "    .dataframe tbody tr th:only-of-type {\n",
       "        vertical-align: middle;\n",
       "    }\n",
       "\n",
       "    .dataframe tbody tr th {\n",
       "        vertical-align: top;\n",
       "    }\n",
       "\n",
       "    .dataframe thead th {\n",
       "        text-align: right;\n",
       "    }\n",
       "</style>\n",
       "<table border=\"1\" class=\"dataframe\">\n",
       "  <thead>\n",
       "    <tr style=\"text-align: right;\">\n",
       "      <th></th>\n",
       "      <th>Survived</th>\n",
       "      <th>Pclass</th>\n",
       "      <th>Sex</th>\n",
       "      <th>Age</th>\n",
       "      <th>SibSp</th>\n",
       "      <th>Parch</th>\n",
       "      <th>Fare</th>\n",
       "      <th>Title</th>\n",
       "    </tr>\n",
       "  </thead>\n",
       "  <tbody>\n",
       "    <tr>\n",
       "      <th>0</th>\n",
       "      <td>0</td>\n",
       "      <td>3</td>\n",
       "      <td>0</td>\n",
       "      <td>1</td>\n",
       "      <td>1</td>\n",
       "      <td>0</td>\n",
       "      <td>0</td>\n",
       "      <td>1</td>\n",
       "    </tr>\n",
       "  </tbody>\n",
       "</table>\n",
       "</div>"
      ],
      "text/plain": [
       "   Survived  Pclass  Sex  Age  SibSp  Parch  Fare  Title\n",
       "0         0       3    0    1      1      0     0      1"
      ]
     },
     "execution_count": 36,
     "metadata": {},
     "output_type": "execute_result"
    }
   ],
   "source": [
    "ds_train.head(1)"
   ]
  },
  {
   "cell_type": "code",
   "execution_count": 37,
   "id": "9e614cdd",
   "metadata": {},
   "outputs": [
    {
     "data": {
      "text/html": [
       "<div>\n",
       "<style scoped>\n",
       "    .dataframe tbody tr th:only-of-type {\n",
       "        vertical-align: middle;\n",
       "    }\n",
       "\n",
       "    .dataframe tbody tr th {\n",
       "        vertical-align: top;\n",
       "    }\n",
       "\n",
       "    .dataframe thead th {\n",
       "        text-align: right;\n",
       "    }\n",
       "</style>\n",
       "<table border=\"1\" class=\"dataframe\">\n",
       "  <thead>\n",
       "    <tr style=\"text-align: right;\">\n",
       "      <th></th>\n",
       "      <th>PassengerId</th>\n",
       "      <th>Pclass</th>\n",
       "      <th>Sex</th>\n",
       "      <th>Age</th>\n",
       "      <th>SibSp</th>\n",
       "      <th>Parch</th>\n",
       "      <th>Fare</th>\n",
       "      <th>Title</th>\n",
       "    </tr>\n",
       "  </thead>\n",
       "  <tbody>\n",
       "    <tr>\n",
       "      <th>0</th>\n",
       "      <td>892</td>\n",
       "      <td>3</td>\n",
       "      <td>0</td>\n",
       "      <td>2</td>\n",
       "      <td>0</td>\n",
       "      <td>0</td>\n",
       "      <td>0</td>\n",
       "      <td>1</td>\n",
       "    </tr>\n",
       "  </tbody>\n",
       "</table>\n",
       "</div>"
      ],
      "text/plain": [
       "   PassengerId  Pclass  Sex  Age  SibSp  Parch  Fare  Title\n",
       "0          892       3    0    2      0      0     0      1"
      ]
     },
     "execution_count": 37,
     "metadata": {},
     "output_type": "execute_result"
    }
   ],
   "source": [
    "ds_test.head(1)"
   ]
  },
  {
   "cell_type": "markdown",
   "id": "aa055999",
   "metadata": {},
   "source": [
    "\n"
   ]
  },
  {
   "cell_type": "markdown",
   "id": "9522b0d4",
   "metadata": {},
   "source": [
    "### Модель и предсказание"
   ]
  },
  {
   "cell_type": "markdown",
   "id": "c6034a59",
   "metadata": {},
   "source": [
    "* Теперь мы готовы обучить модель и спрогнозировать необходимое решение.\n",
    "* Необходимо выбрать подходящую модель: необходимо определить взаимосвязь между выходными данными (выжившие или нет) с другими переменными или характеристиками (пол, возраст, порт ...)\n",
    "* Мы также реализуем категорию машинного обучения, которая называется обучением с учителем, поскольку мы обучаем нашу модель с заданным набором данных"
   ]
  },
  {
   "cell_type": "markdown",
   "id": "be0cfe30",
   "metadata": {},
   "source": [
    "К подходящим моделям относятся:\n",
    "\n",
    "+ Logistic Regression\n",
    "+ KNN or k-Nearest Neighbors\n",
    "+ Support Vector Machines\n",
    "+ Naive Bayes classifier\n",
    "+ **Decision Tree**\n",
    "+ Random Forrest\n",
    "+ Perceptron\n",
    "+ Artificial neural network\n",
    "+ RVM or Relevance Vector Machine"
   ]
  },
  {
   "cell_type": "markdown",
   "id": "3e1e05fc",
   "metadata": {},
   "source": [
    "\n"
   ]
  },
  {
   "cell_type": "markdown",
   "id": "f9bc994a",
   "metadata": {},
   "source": [
    "#### Decision Tree"
   ]
  },
  {
   "cell_type": "markdown",
   "id": "be85e213",
   "metadata": {},
   "source": [
    "Эта модель использует дерево решений в качестве модели прогнозирования, которая сопоставляет функции (ветви дерева) с выводами о целевом значении (листья дерева). Модели деревьев, в которых целевая переменная может принимать конечный набор значений, называются деревьями классификации; в этих древовидных структурах листья представляют метки классов, а ветви представляют соединения функций, которые ведут к этим меткам классов. Деревья решений, в которых целевая переменная может принимать непрерывные значения (обычно действительные числа), называются деревьями регрессии."
   ]
  },
  {
   "cell_type": "code",
   "execution_count": 39,
   "id": "a5cc3db2",
   "metadata": {
    "scrolled": true
   },
   "outputs": [
    {
     "data": {
      "text/plain": [
       "((714, 7), (714,), (331, 7))"
      ]
     },
     "execution_count": 39,
     "metadata": {},
     "output_type": "execute_result"
    }
   ],
   "source": [
    "X_train = ds_train.drop(\"Survived\", axis=1)\n",
    "Y_train = ds_train[\"Survived\"]\n",
    "X_test  = ds_test.drop(\"PassengerId\", axis=1).copy()\n",
    "X_train.shape, Y_train.shape, X_test.shape"
   ]
  },
  {
   "cell_type": "code",
   "execution_count": 53,
   "id": "ec749a44",
   "metadata": {},
   "outputs": [
    {
     "data": {
      "text/plain": [
       "88.38"
      ]
     },
     "execution_count": 53,
     "metadata": {},
     "output_type": "execute_result"
    }
   ],
   "source": [
    "decision_tree = st.DecisionTreeClassifier()\n",
    "decision_tree.fit(X_train, Y_train)\n",
    "Y_pred = decision_tree.predict(X_test)\n",
    "acc_decision_tree = round(decision_tree.score(X_train, Y_train) * 100, 2)\n",
    "acc_decision_tree"
   ]
  },
  {
   "cell_type": "markdown",
   "id": "5ad1e009",
   "metadata": {},
   "source": [
    "----\n",
    "##### Вспомогательные функции"
   ]
  },
  {
   "cell_type": "code",
   "execution_count": 23,
   "id": "f7cfff6c",
   "metadata": {},
   "outputs": [],
   "source": [
    "def new_ds_for_analisys_embarked(ds_train):\n",
    "    ds = ds_train[ds_train.Embarked == 'S']\n",
    "    ds = ds.append(ds_train[ds_train.Embarked == 'C'])\n",
    "    ds = ds.append(ds_train[ds_train.Embarked == 'Q'])\n",
    "    return ds"
   ]
  }
 ],
 "metadata": {
  "kernelspec": {
   "display_name": "Python 3 (ipykernel)",
   "language": "python",
   "name": "python3"
  },
  "language_info": {
   "codemirror_mode": {
    "name": "ipython",
    "version": 3
   },
   "file_extension": ".py",
   "mimetype": "text/x-python",
   "name": "python",
   "nbconvert_exporter": "python",
   "pygments_lexer": "ipython3",
   "version": "3.9.7"
  }
 },
 "nbformat": 4,
 "nbformat_minor": 5
}
